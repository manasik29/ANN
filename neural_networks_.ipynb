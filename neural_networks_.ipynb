{
  "cells": [
    {
      "cell_type": "markdown",
      "metadata": {
        "id": "view-in-github",
        "colab_type": "text"
      },
      "source": [
        "<a href=\"https://colab.research.google.com/github/manasik29/ANN/blob/main/neural_networks_.ipynb\" target=\"_parent\"><img src=\"https://colab.research.google.com/assets/colab-badge.svg\" alt=\"Open In Colab\"/></a>"
      ]
    },
    {
      "cell_type": "code",
      "execution_count": null,
      "metadata": {
        "ExecuteTime": {
          "end_time": "2021-07-01T14:17:22.506088Z",
          "start_time": "2021-07-01T14:17:18.056061Z"
        },
        "scrolled": true,
        "id": "m14b41efsUId"
      },
      "outputs": [],
      "source": [
        "!pip install tensorflow"
      ]
    },
    {
      "cell_type": "code",
      "execution_count": 3,
      "metadata": {
        "ExecuteTime": {
          "end_time": "2021-12-21T13:42:55.383478Z",
          "start_time": "2021-12-21T13:42:55.368533Z"
        },
        "id": "WmP4sHZKsUIi"
      },
      "outputs": [],
      "source": [
        "import warnings\n",
        "warnings.filterwarnings(\"ignore\")"
      ]
    },
    {
      "cell_type": "code",
      "execution_count": 11,
      "metadata": {
        "ExecuteTime": {
          "end_time": "2021-12-21T13:42:55.929389Z",
          "start_time": "2021-12-21T13:42:55.924309Z"
        },
        "id": "4xQlwz-usUKh"
      },
      "outputs": [],
      "source": [
        "import matplotlib.pyplot as plt \n",
        "import numpy as np\n",
        "import pandas as pd\n",
        "from sklearn.model_selection import train_test_split\n",
        "import keras.datasets as kd"
      ]
    },
    {
      "cell_type": "markdown",
      "metadata": {
        "id": "mkIfcZYisUKi"
      },
      "source": [
        "# GD"
      ]
    },
    {
      "cell_type": "code",
      "execution_count": 40,
      "metadata": {
        "ExecuteTime": {
          "end_time": "2021-12-21T13:43:20.161748Z",
          "start_time": "2021-12-21T13:43:19.588428Z"
        },
        "colab": {
          "base_uri": "https://localhost:8080/",
          "height": 265
        },
        "id": "mwmxSSFUsUKj",
        "outputId": "382cc8f8-8c7a-4d77-d0db-2b09bf444913"
      },
      "outputs": [
        {
          "output_type": "display_data",
          "data": {
            "text/plain": [
              "<Figure size 432x288 with 1 Axes>"
            ],
            "image/png": "[encoded data removed]"
          },
          "metadata": {
            "needs_background": "light"
          }
        }
      ],
      "source": [
        "x=np.linspace(4,6,20)\n",
        "y=(x-5)**2\n",
        "plt.scatter(x,y,color=\"black\")\n",
        "starting_point=1000\n",
        "updated_point=starting_point\n",
        "l=[]\n",
        "for i in range(100):\n",
        "    eta=-0.2\n",
        "    updated_point=updated_point+eta*2*(updated_point-5)\n",
        "    l.append(updated_point)\n",
        "    plt.scatter(updated_point,(updated_point-5)**2)\n",
        "    "
      ]
    },
    {
      "cell_type": "code",
      "execution_count": 43,
      "metadata": {
        "ExecuteTime": {
          "end_time": "2021-12-21T13:43:27.623050Z",
          "start_time": "2021-12-21T13:43:27.616121Z"
        },
        "scrolled": false,
        "colab": {
          "base_uri": "https://localhost:8080/"
        },
        "id": "qjVR1NbwsUKo",
        "outputId": "e14a9184-a27f-423e-c68d-6ae28ff10faa"
      },
      "outputs": [
        {
          "output_type": "execute_result",
          "data": {
            "text/plain": [
              "[602.0,\n",
              " 363.2,\n",
              " 219.92,\n",
              " 133.952,\n",
              " 82.37119999999999,\n",
              " 51.42271999999999,\n",
              " 32.85363199999999,\n",
              " 21.712179199999994,\n",
              " 15.027307519999997,\n",
              " 11.016384511999998,\n",
              " 8.609830707199999,\n",
              " 7.165898424319999,\n",
              " 6.299539054592,\n",
              " 5.779723432755199,\n",
              " 5.46783405965312,\n",
              " 5.280700435791871,\n",
              " 5.168420261475123,\n",
              " 5.101052156885074,\n",
              " 5.060631294131045,\n",
              " 5.036378776478627,\n",
              " 5.021827265887176,\n",
              " 5.013096359532306,\n",
              " 5.007857815719384,\n",
              " 5.004714689431631,\n",
              " 5.0028288136589785,\n",
              " 5.001697288195387,\n",
              " 5.001018372917232,\n",
              " 5.00061102375034,\n",
              " 5.000366614250204,\n",
              " 5.000219968550122,\n",
              " 5.000131981130074,\n",
              " 5.000079188678044,\n",
              " 5.000047513206827,\n",
              " 5.000028507924096,\n",
              " 5.000017104754457,\n",
              " 5.000010262852674,\n",
              " 5.000006157711605,\n",
              " 5.000003694626963,\n",
              " 5.000002216776178,\n",
              " 5.0000013300657065,\n",
              " 5.000000798039424,\n",
              " 5.0000004788236545,\n",
              " 5.000000287294193,\n",
              " 5.000000172376516,\n",
              " 5.00000010342591,\n",
              " 5.000000062055546,\n",
              " 5.0000000372333275,\n",
              " 5.0000000223399965,\n",
              " 5.000000013403998,\n",
              " 5.000000008042399,\n",
              " 5.00000000482544,\n",
              " 5.000000002895264,\n",
              " 5.000000001737158,\n",
              " 5.000000001042295,\n",
              " 5.000000000625377,\n",
              " 5.000000000375226,\n",
              " 5.0000000002251355,\n",
              " 5.000000000135081,\n",
              " 5.000000000081049,\n",
              " 5.0000000000486295,\n",
              " 5.0000000000291775,\n",
              " 5.000000000017507,\n",
              " 5.0000000000105045,\n",
              " 5.0000000000063025,\n",
              " 5.000000000003782,\n",
              " 5.000000000002269,\n",
              " 5.000000000001362,\n",
              " 5.000000000000817,\n",
              " 5.00000000000049,\n",
              " 5.000000000000294,\n",
              " 5.000000000000177,\n",
              " 5.000000000000106,\n",
              " 5.000000000000063,\n",
              " 5.000000000000038,\n",
              " 5.000000000000023,\n",
              " 5.000000000000014,\n",
              " 5.000000000000009,\n",
              " 5.000000000000005,\n",
              " 5.0000000000000036,\n",
              " 5.000000000000002,\n",
              " 5.000000000000001,\n",
              " 5.000000000000001,\n",
              " 5.000000000000001,\n",
              " 5.000000000000001,\n",
              " 5.000000000000001,\n",
              " 5.000000000000001,\n",
              " 5.000000000000001,\n",
              " 5.000000000000001,\n",
              " 5.000000000000001,\n",
              " 5.000000000000001,\n",
              " 5.000000000000001,\n",
              " 5.000000000000001,\n",
              " 5.000000000000001,\n",
              " 5.000000000000001,\n",
              " 5.000000000000001,\n",
              " 5.000000000000001,\n",
              " 5.000000000000001,\n",
              " 5.000000000000001,\n",
              " 5.000000000000001,\n",
              " 5.000000000000001]"
            ]
          },
          "metadata": {},
          "execution_count": 43
        }
      ],
      "source": [
        "l"
      ]
    },
    {
      "cell_type": "code",
      "execution_count": null,
      "metadata": {
        "ExecuteTime": {
          "end_time": "2021-12-21T12:48:01.919025Z",
          "start_time": "2021-12-21T12:48:01.915177Z"
        },
        "id": "micEsN3wsUKq"
      },
      "outputs": [],
      "source": [
        "#linear reg implement "
      ]
    },
    {
      "cell_type": "markdown",
      "metadata": {
        "id": "Rw8rRCcFsUKs"
      },
      "source": [
        "# perceptron "
      ]
    },
    {
      "cell_type": "code",
      "execution_count": 44,
      "metadata": {
        "ExecuteTime": {
          "end_time": "2021-12-21T12:48:07.171459Z",
          "start_time": "2021-12-21T12:48:07.162044Z"
        },
        "id": "GOQIoTU2sUKy"
      },
      "outputs": [],
      "source": [
        "class Perceptron():\n",
        "\n",
        "    def __init__(self, no_of_inputs, threshold=10000, learning_rate=0.001):\n",
        "        self.threshold = threshold\n",
        "        self.learning_rate = learning_rate\n",
        "        self.weights = np.zeros(no_of_inputs + 1)\n",
        "           \n",
        "    def predict(self, inputs):\n",
        "        summation = np.dot(inputs, self.weights[1:]) + self.weights[0]\n",
        "        if summation > 0:\n",
        "          activation = 2\n",
        "        else:\n",
        "          activation = 1         \n",
        "        return activation\n",
        "    def predict_batch(self,inputs):\n",
        "        summation = np.dot(inputs, self.weights[1:]) + self.weights[0]\n",
        "        return np.where(summation>0,2,1)\n",
        "    \n",
        "\n",
        "    def train(self, training_inputs, labels):\n",
        "                for _ in range(self.threshold):\n",
        "                    for inputs, label in zip(training_inputs, labels):\n",
        "                        prediction = self.predict(inputs)\n",
        "                        self.weights[1:] += self.learning_rate * (label - prediction) * inputs\n",
        "                        self.weights[0] += self.learning_rate * (label - prediction)\n"
      ]
    },
    {
      "cell_type": "code",
      "execution_count": 56,
      "metadata": {
        "ExecuteTime": {
          "end_time": "2021-12-21T13:52:04.611623Z",
          "start_time": "2021-12-21T13:52:04.589537Z"
        },
        "id": "FE9JplIMsUK1"
      },
      "outputs": [],
      "source": [
        "data=pd.read_csv(\"fun-data.csv\")"
      ]
    },
    {
      "cell_type": "code",
      "execution_count": 57,
      "metadata": {
        "ExecuteTime": {
          "end_time": "2021-12-21T13:52:17.995680Z",
          "start_time": "2021-12-21T13:52:17.979239Z"
        },
        "colab": {
          "base_uri": "https://localhost:8080/",
          "height": 206
        },
        "id": "xJmEZ5WhsUK3",
        "outputId": "17a962d6-b51c-4c25-b1f7-e115c1c4941f"
      },
      "outputs": [
        {
          "output_type": "execute_result",
          "data": {
            "text/plain": [
              "         f1        f2         f3  class\n",
              "0  8.477937  0.436289  40.389470      1\n",
              "1  6.704407  6.237227  65.349761      1\n",
              "2  4.835130  4.500931  52.093300      1\n",
              "3  5.179056  9.523951  79.049424      1\n",
              "4  5.030426  4.569668  51.970028      1"
            ],
            "text/html": [
              "\n",
              "  <div id=\"df-07af43b7-43c7-4d53-891d-95b4311f9b3a\">\n",
              "    <div class=\"colab-df-container\">\n",
              "      <div>\n",
              "<style scoped>\n",
              "    .dataframe tbody tr th:only-of-type {\n",
              "        vertical-align: middle;\n",
              "    }\n",
              "\n",
              "    .dataframe tbody tr th {\n",
              "        vertical-align: top;\n",
              "    }\n",
              "\n",
              "    .dataframe thead th {\n",
              "        text-align: right;\n",
              "    }\n",
              "</style>\n",
              "<table border=\"1\" class=\"dataframe\">\n",
              "  <thead>\n",
              "    <tr style=\"text-align: right;\">\n",
              "      <th></th>\n",
              "      <th>f1</th>\n",
              "      <th>f2</th>\n",
              "      <th>f3</th>\n",
              "      <th>class</th>\n",
              "    </tr>\n",
              "  </thead>\n",
              "  <tbody>\n",
              "    <tr>\n",
              "      <th>0</th>\n",
              "      <td>8.477937</td>\n",
              "      <td>0.436289</td>\n",
              "      <td>40.389470</td>\n",
              "      <td>1</td>\n",
              "    </tr>\n",
              "    <tr>\n",
              "      <th>1</th>\n",
              "      <td>6.704407</td>\n",
              "      <td>6.237227</td>\n",
              "      <td>65.349761</td>\n",
              "      <td>1</td>\n",
              "    </tr>\n",
              "    <tr>\n",
              "      <th>2</th>\n",
              "      <td>4.835130</td>\n",
              "      <td>4.500931</td>\n",
              "      <td>52.093300</td>\n",
              "      <td>1</td>\n",
              "    </tr>\n",
              "    <tr>\n",
              "      <th>3</th>\n",
              "      <td>5.179056</td>\n",
              "      <td>9.523951</td>\n",
              "      <td>79.049424</td>\n",
              "      <td>1</td>\n",
              "    </tr>\n",
              "    <tr>\n",
              "      <th>4</th>\n",
              "      <td>5.030426</td>\n",
              "      <td>4.569668</td>\n",
              "      <td>51.970028</td>\n",
              "      <td>1</td>\n",
              "    </tr>\n",
              "  </tbody>\n",
              "</table>\n",
              "</div>\n",
              "      <button class=\"colab-df-convert\" onclick=\"convertToInteractive('df-07af43b7-43c7-4d53-891d-95b4311f9b3a')\"\n",
              "              title=\"Convert this dataframe to an interactive table.\"\n",
              "              style=\"display:none;\">\n",
              "        \n",
              "  <svg xmlns=\"http://www.w3.org/2000/svg\" height=\"24px\"viewBox=\"0 0 24 24\"\n",
              "       width=\"24px\">\n",
              "    <path d=\"M0 0h24v24H0V0z\" fill=\"none\"/>\n",
              "    <path d=\"M18.56 5.44l.94 2.06.94-2.06 2.06-.94-2.06-.94-.94-2.06-.94 2.06-2.06.94zm-11 1L8.5 8.5l.94-2.06 2.06-.94-2.06-.94L8.5 2.5l-.94 2.06-2.06.94zm10 10l.94 2.06.94-2.06 2.06-.94-2.06-.94-.94-2.06-.94 2.06-2.06.94z\"/><path d=\"M17.41 7.96l-1.37-1.37c-.4-.4-.92-.59-1.43-.59-.52 0-1.04.2-1.43.59L10.3 9.45l-7.72 7.72c-.78.78-.78 2.05 0 2.83L4 21.41c.39.39.9.59 1.41.59.51 0 1.02-.2 1.41-.59l7.78-7.78 2.81-2.81c.8-.78.8-2.07 0-2.86zM5.41 20L4 18.59l7.72-7.72 1.47 1.35L5.41 20z\"/>\n",
              "  </svg>\n",
              "      </button>\n",
              "      \n",
              "  <style>\n",
              "    .colab-df-container {\n",
              "      display:flex;\n",
              "      flex-wrap:wrap;\n",
              "      gap: 12px;\n",
              "    }\n",
              "\n",
              "    .colab-df-convert {\n",
              "      background-color: #E8F0FE;\n",
              "      border: none;\n",
              "      border-radius: 50%;\n",
              "      cursor: pointer;\n",
              "      display: none;\n",
              "      fill: #1967D2;\n",
              "      height: 32px;\n",
              "      padding: 0 0 0 0;\n",
              "      width: 32px;\n",
              "    }\n",
              "\n",
              "    .colab-df-convert:hover {\n",
              "      background-color: #E2EBFA;\n",
              "      box-shadow: 0px 1px 2px rgba(60, 64, 67, 0.3), 0px 1px 3px 1px rgba(60, 64, 67, 0.15);\n",
              "      fill: #174EA6;\n",
              "    }\n",
              "\n",
              "    [theme=dark] .colab-df-convert {\n",
              "      background-color: #3B4455;\n",
              "      fill: #D2E3FC;\n",
              "    }\n",
              "\n",
              "    [theme=dark] .colab-df-convert:hover {\n",
              "      background-color: #434B5C;\n",
              "      box-shadow: 0px 1px 3px 1px rgba(0, 0, 0, 0.15);\n",
              "      filter: drop-shadow(0px 1px 2px rgba(0, 0, 0, 0.3));\n",
              "      fill: #FFFFFF;\n",
              "    }\n",
              "  </style>\n",
              "\n",
              "      <script>\n",
              "        const buttonEl =\n",
              "          document.querySelector('#df-07af43b7-43c7-4d53-891d-95b4311f9b3a button.colab-df-convert');\n",
              "        buttonEl.style.display =\n",
              "          google.colab.kernel.accessAllowed ? 'block' : 'none';\n",
              "\n",
              "        async function convertToInteractive(key) {\n",
              "          const element = document.querySelector('#df-07af43b7-43c7-4d53-891d-95b4311f9b3a');\n",
              "          const dataTable =\n",
              "            await google.colab.kernel.invokeFunction('convertToInteractive',\n",
              "                                                     [key], {});\n",
              "          if (!dataTable) return;\n",
              "\n",
              "          const docLinkHtml = 'Like what you see? Visit the ' +\n",
              "            '<a target=\"_blank\" href=https://colab.research.google.com/notebooks/data_table.ipynb>data table notebook</a>'\n",
              "            + ' to learn more about interactive tables.';\n",
              "          element.innerHTML = '';\n",
              "          dataTable['output_type'] = 'display_data';\n",
              "          await google.colab.output.renderOutput(dataTable, element);\n",
              "          const docLink = document.createElement('div');\n",
              "          docLink.innerHTML = docLinkHtml;\n",
              "          element.appendChild(docLink);\n",
              "        }\n",
              "      </script>\n",
              "    </div>\n",
              "  </div>\n",
              "  "
            ]
          },
          "metadata": {},
          "execution_count": 57
        }
      ],
      "source": [
        "data.head()"
      ]
    },
    {
      "cell_type": "code",
      "source": [
        "plt.scatter(data.f2, data.f3, c=data[\"class\"])"
      ],
      "metadata": {
        "colab": {
          "base_uri": "https://localhost:8080/",
          "height": 282
        },
        "id": "QhFRCFb3yjfr",
        "outputId": "1df161ac-c170-46e6-9e0a-80be3f82387f"
      },
      "execution_count": 62,
      "outputs": [
        {
          "output_type": "execute_result",
          "data": {
            "text/plain": [
              "<matplotlib.collections.PathCollection at 0x7fdcdde6a250>"
            ]
          },
          "metadata": {},
          "execution_count": 62
        },
        {
          "output_type": "display_data",
          "data": {
            "text/plain": [
              "<Figure size 432x288 with 1 Axes>"
            ],
            "image/png": "[encoded data removed]"
          },
          "metadata": {
            "needs_background": "light"
          }
        }
      ]
    },
    {
      "cell_type": "code",
      "source": [
        "plt.scatter(data.f1, data.f3, c=data[\"class\"])"
      ],
      "metadata": {
        "colab": {
          "base_uri": "https://localhost:8080/",
          "height": 282
        },
        "id": "XJrGxg6MzJ9i",
        "outputId": "8296cfb1-fc1a-44c2-cf59-bba217656eed"
      },
      "execution_count": 63,
      "outputs": [
        {
          "output_type": "execute_result",
          "data": {
            "text/plain": [
              "<matplotlib.collections.PathCollection at 0x7fdcdddd8510>"
            ]
          },
          "metadata": {},
          "execution_count": 63
        },
        {
          "output_type": "display_data",
          "data": {
            "text/plain": [
              "<Figure size 432x288 with 1 Axes>"
            ],
            "image/png": "[encoded data removed]"
          },
          "metadata": {
            "needs_background": "light"
          }
        }
      ]
    },
    {
      "cell_type": "code",
      "execution_count": 47,
      "metadata": {
        "ExecuteTime": {
          "end_time": "2021-12-21T12:48:09.249911Z",
          "start_time": "2021-12-21T12:48:09.243075Z"
        },
        "colab": {
          "base_uri": "https://localhost:8080/"
        },
        "id": "-81qtr5TsUK6",
        "outputId": "1ce3e850-0d7e-4f42-ae7b-edb93da2a66b"
      },
      "outputs": [
        {
          "output_type": "execute_result",
          "data": {
            "text/plain": [
              "1    100\n",
              "2    100\n",
              "Name: class, dtype: int64"
            ]
          },
          "metadata": {},
          "execution_count": 47
        }
      ],
      "source": [
        "data[\"class\"].value_counts()"
      ]
    },
    {
      "cell_type": "code",
      "execution_count": 48,
      "metadata": {
        "ExecuteTime": {
          "end_time": "2021-12-21T12:48:32.503519Z",
          "start_time": "2021-12-21T12:48:09.873399Z"
        },
        "id": "vM8l44vpsULG"
      },
      "outputs": [],
      "source": [
        "perceptron = Perceptron(no_of_inputs=3)\n",
        "perceptron.train(data.iloc[:,:-1].values,np.array(data.iloc[:,-1]))"
      ]
    },
    {
      "cell_type": "code",
      "execution_count": 49,
      "metadata": {
        "ExecuteTime": {
          "end_time": "2021-12-21T12:48:32.514060Z",
          "start_time": "2021-12-21T12:48:32.506098Z"
        },
        "colab": {
          "base_uri": "https://localhost:8080/"
        },
        "id": "cjegJNg1sULI",
        "outputId": "b6d8f78a-6e92-4581-f619-035470d9d06e"
      },
      "outputs": [
        {
          "output_type": "execute_result",
          "data": {
            "text/plain": [
              "array([ 1.532     ,  0.384272  ,  0.64909767, -0.12957911])"
            ]
          },
          "metadata": {},
          "execution_count": 49
        }
      ],
      "source": [
        "perceptron.weights"
      ]
    },
    {
      "cell_type": "code",
      "execution_count": 50,
      "metadata": {
        "ExecuteTime": {
          "end_time": "2021-12-21T12:48:39.303834Z",
          "start_time": "2021-12-21T12:48:39.300128Z"
        },
        "id": "Nud2eq_BsUMP"
      },
      "outputs": [],
      "source": [
        "from sklearn import metrics"
      ]
    },
    {
      "cell_type": "code",
      "execution_count": 51,
      "metadata": {
        "ExecuteTime": {
          "end_time": "2021-12-21T12:48:39.868065Z",
          "start_time": "2021-12-21T12:48:39.858408Z"
        },
        "colab": {
          "base_uri": "https://localhost:8080/"
        },
        "id": "mdrQiXhisUMR",
        "outputId": "06e76a9d-d16e-4d53-8b80-b59b1eb5b810"
      },
      "outputs": [
        {
          "output_type": "execute_result",
          "data": {
            "text/plain": [
              "1.0"
            ]
          },
          "metadata": {},
          "execution_count": 51
        }
      ],
      "source": [
        "metrics.accuracy_score(perceptron.predict_batch(data.iloc[:,:-1].values),np.array(data.iloc[:,-1]))"
      ]
    },
    {
      "cell_type": "markdown",
      "metadata": {
        "id": "4HTWS9n1sUMS"
      },
      "source": [
        "# PERCERPTRON FOR logisticdrawback.csv"
      ]
    },
    {
      "cell_type": "code",
      "execution_count": 52,
      "metadata": {
        "ExecuteTime": {
          "end_time": "2021-12-21T12:48:41.026816Z",
          "start_time": "2021-12-21T12:48:40.969627Z"
        },
        "id": "7kfK32qCsUMX"
      },
      "outputs": [],
      "source": [
        "from sklearn.linear_model import Perceptron"
      ]
    },
    {
      "cell_type": "code",
      "execution_count": 64,
      "metadata": {
        "ExecuteTime": {
          "end_time": "2021-12-21T12:48:41.555593Z",
          "start_time": "2021-12-21T12:48:41.544967Z"
        },
        "id": "GaNx-q-ksUMY"
      },
      "outputs": [],
      "source": [
        "data=pd.read_csv(\"logisticdrawback.csv\")"
      ]
    },
    {
      "cell_type": "code",
      "execution_count": 54,
      "metadata": {
        "ExecuteTime": {
          "end_time": "2021-12-21T12:48:42.194897Z",
          "start_time": "2021-12-21T12:48:42.181667Z"
        },
        "colab": {
          "base_uri": "https://localhost:8080/",
          "height": 424
        },
        "id": "TFxOeYirsUMZ",
        "outputId": "c3981b37-f29d-408b-a19a-87e4341d805b"
      },
      "outputs": [
        {
          "output_type": "execute_result",
          "data": {
            "text/plain": [
              "           f1        f2  class\n",
              "0   -1.335474  1.376236      1\n",
              "1   -1.918388 -0.528479      1\n",
              "2    0.015120  0.020986      1\n",
              "3   -0.131351  0.119043      1\n",
              "4    0.794606  1.421984      1\n",
              "..        ...       ...    ...\n",
              "295 -0.413737 -8.881763      3\n",
              "296 -6.280134  4.969648      3\n",
              "297 -0.946822  9.196240      3\n",
              "298 -6.139916  5.699856      3\n",
              "299  2.997826 -8.558367      3\n",
              "\n",
              "[300 rows x 3 columns]"
            ],
            "text/html": [
              "\n",
              "  <div id=\"df-f77aaf03-8b8c-4704-b6ed-2d55876145f0\">\n",
              "    <div class=\"colab-df-container\">\n",
              "      <div>\n",
              "<style scoped>\n",
              "    .dataframe tbody tr th:only-of-type {\n",
              "        vertical-align: middle;\n",
              "    }\n",
              "\n",
              "    .dataframe tbody tr th {\n",
              "        vertical-align: top;\n",
              "    }\n",
              "\n",
              "    .dataframe thead th {\n",
              "        text-align: right;\n",
              "    }\n",
              "</style>\n",
              "<table border=\"1\" class=\"dataframe\">\n",
              "  <thead>\n",
              "    <tr style=\"text-align: right;\">\n",
              "      <th></th>\n",
              "      <th>f1</th>\n",
              "      <th>f2</th>\n",
              "      <th>class</th>\n",
              "    </tr>\n",
              "  </thead>\n",
              "  <tbody>\n",
              "    <tr>\n",
              "      <th>0</th>\n",
              "      <td>-1.335474</td>\n",
              "      <td>1.376236</td>\n",
              "      <td>1</td>\n",
              "    </tr>\n",
              "    <tr>\n",
              "      <th>1</th>\n",
              "      <td>-1.918388</td>\n",
              "      <td>-0.528479</td>\n",
              "      <td>1</td>\n",
              "    </tr>\n",
              "    <tr>\n",
              "      <th>2</th>\n",
              "      <td>0.015120</td>\n",
              "      <td>0.020986</td>\n",
              "      <td>1</td>\n",
              "    </tr>\n",
              "    <tr>\n",
              "      <th>3</th>\n",
              "      <td>-0.131351</td>\n",
              "      <td>0.119043</td>\n",
              "      <td>1</td>\n",
              "    </tr>\n",
              "    <tr>\n",
              "      <th>4</th>\n",
              "      <td>0.794606</td>\n",
              "      <td>1.421984</td>\n",
              "      <td>1</td>\n",
              "    </tr>\n",
              "    <tr>\n",
              "      <th>...</th>\n",
              "      <td>...</td>\n",
              "      <td>...</td>\n",
              "      <td>...</td>\n",
              "    </tr>\n",
              "    <tr>\n",
              "      <th>295</th>\n",
              "      <td>-0.413737</td>\n",
              "      <td>-8.881763</td>\n",
              "      <td>3</td>\n",
              "    </tr>\n",
              "    <tr>\n",
              "      <th>296</th>\n",
              "      <td>-6.280134</td>\n",
              "      <td>4.969648</td>\n",
              "      <td>3</td>\n",
              "    </tr>\n",
              "    <tr>\n",
              "      <th>297</th>\n",
              "      <td>-0.946822</td>\n",
              "      <td>9.196240</td>\n",
              "      <td>3</td>\n",
              "    </tr>\n",
              "    <tr>\n",
              "      <th>298</th>\n",
              "      <td>-6.139916</td>\n",
              "      <td>5.699856</td>\n",
              "      <td>3</td>\n",
              "    </tr>\n",
              "    <tr>\n",
              "      <th>299</th>\n",
              "      <td>2.997826</td>\n",
              "      <td>-8.558367</td>\n",
              "      <td>3</td>\n",
              "    </tr>\n",
              "  </tbody>\n",
              "</table>\n",
              "<p>300 rows × 3 columns</p>\n",
              "</div>\n",
              "      <button class=\"colab-df-convert\" onclick=\"convertToInteractive('df-f77aaf03-8b8c-4704-b6ed-2d55876145f0')\"\n",
              "              title=\"Convert this dataframe to an interactive table.\"\n",
              "              style=\"display:none;\">\n",
              "        \n",
              "  <svg xmlns=\"http://www.w3.org/2000/svg\" height=\"24px\"viewBox=\"0 0 24 24\"\n",
              "       width=\"24px\">\n",
              "    <path d=\"M0 0h24v24H0V0z\" fill=\"none\"/>\n",
              "    <path d=\"M18.56 5.44l.94 2.06.94-2.06 2.06-.94-2.06-.94-.94-2.06-.94 2.06-2.06.94zm-11 1L8.5 8.5l.94-2.06 2.06-.94-2.06-.94L8.5 2.5l-.94 2.06-2.06.94zm10 10l.94 2.06.94-2.06 2.06-.94-2.06-.94-.94-2.06-.94 2.06-2.06.94z\"/><path d=\"M17.41 7.96l-1.37-1.37c-.4-.4-.92-.59-1.43-.59-.52 0-1.04.2-1.43.59L10.3 9.45l-7.72 7.72c-.78.78-.78 2.05 0 2.83L4 21.41c.39.39.9.59 1.41.59.51 0 1.02-.2 1.41-.59l7.78-7.78 2.81-2.81c.8-.78.8-2.07 0-2.86zM5.41 20L4 18.59l7.72-7.72 1.47 1.35L5.41 20z\"/>\n",
              "  </svg>\n",
              "      </button>\n",
              "      \n",
              "  <style>\n",
              "    .colab-df-container {\n",
              "      display:flex;\n",
              "      flex-wrap:wrap;\n",
              "      gap: 12px;\n",
              "    }\n",
              "\n",
              "    .colab-df-convert {\n",
              "      background-color: #E8F0FE;\n",
              "      border: none;\n",
              "      border-radius: 50%;\n",
              "      cursor: pointer;\n",
              "      display: none;\n",
              "      fill: #1967D2;\n",
              "      height: 32px;\n",
              "      padding: 0 0 0 0;\n",
              "      width: 32px;\n",
              "    }\n",
              "\n",
              "    .colab-df-convert:hover {\n",
              "      background-color: #E2EBFA;\n",
              "      box-shadow: 0px 1px 2px rgba(60, 64, 67, 0.3), 0px 1px 3px 1px rgba(60, 64, 67, 0.15);\n",
              "      fill: #174EA6;\n",
              "    }\n",
              "\n",
              "    [theme=dark] .colab-df-convert {\n",
              "      background-color: #3B4455;\n",
              "      fill: #D2E3FC;\n",
              "    }\n",
              "\n",
              "    [theme=dark] .colab-df-convert:hover {\n",
              "      background-color: #434B5C;\n",
              "      box-shadow: 0px 1px 3px 1px rgba(0, 0, 0, 0.15);\n",
              "      filter: drop-shadow(0px 1px 2px rgba(0, 0, 0, 0.3));\n",
              "      fill: #FFFFFF;\n",
              "    }\n",
              "  </style>\n",
              "\n",
              "      <script>\n",
              "        const buttonEl =\n",
              "          document.querySelector('#df-f77aaf03-8b8c-4704-b6ed-2d55876145f0 button.colab-df-convert');\n",
              "        buttonEl.style.display =\n",
              "          google.colab.kernel.accessAllowed ? 'block' : 'none';\n",
              "\n",
              "        async function convertToInteractive(key) {\n",
              "          const element = document.querySelector('#df-f77aaf03-8b8c-4704-b6ed-2d55876145f0');\n",
              "          const dataTable =\n",
              "            await google.colab.kernel.invokeFunction('convertToInteractive',\n",
              "                                                     [key], {});\n",
              "          if (!dataTable) return;\n",
              "\n",
              "          const docLinkHtml = 'Like what you see? Visit the ' +\n",
              "            '<a target=\"_blank\" href=https://colab.research.google.com/notebooks/data_table.ipynb>data table notebook</a>'\n",
              "            + ' to learn more about interactive tables.';\n",
              "          element.innerHTML = '';\n",
              "          dataTable['output_type'] = 'display_data';\n",
              "          await google.colab.output.renderOutput(dataTable, element);\n",
              "          const docLink = document.createElement('div');\n",
              "          docLink.innerHTML = docLinkHtml;\n",
              "          element.appendChild(docLink);\n",
              "        }\n",
              "      </script>\n",
              "    </div>\n",
              "  </div>\n",
              "  "
            ]
          },
          "metadata": {},
          "execution_count": 54
        }
      ],
      "source": [
        "data"
      ]
    },
    {
      "cell_type": "code",
      "execution_count": 55,
      "metadata": {
        "ExecuteTime": {
          "end_time": "2021-12-21T12:48:43.001566Z",
          "start_time": "2021-12-21T12:48:42.764252Z"
        },
        "colab": {
          "base_uri": "https://localhost:8080/",
          "height": 282
        },
        "id": "WiGPnIPcsUMs",
        "outputId": "8d7fd05f-5e5a-4ea9-d683-593d02b6825a"
      },
      "outputs": [
        {
          "output_type": "execute_result",
          "data": {
            "text/plain": [
              "<matplotlib.collections.PathCollection at 0x7fdd4b18ee50>"
            ]
          },
          "metadata": {},
          "execution_count": 55
        },
        {
          "output_type": "display_data",
          "data": {
            "text/plain": [
              "<Figure size 432x288 with 1 Axes>"
            ],
            "image/png": "[encoded data removed]"
          },
          "metadata": {
            "needs_background": "light"
          }
        }
      ],
      "source": [
        "plt.scatter(data.f1,data.f2,c=data[\"class\"])"
      ]
    },
    {
      "cell_type": "code",
      "execution_count": 65,
      "metadata": {
        "ExecuteTime": {
          "end_time": "2021-12-21T12:48:43.488888Z",
          "start_time": "2021-12-21T12:48:43.484946Z"
        },
        "id": "KU-HX3vYsUMu"
      },
      "outputs": [],
      "source": [
        "model=Perceptron()"
      ]
    },
    {
      "cell_type": "code",
      "execution_count": 66,
      "metadata": {
        "ExecuteTime": {
          "end_time": "2021-12-21T12:48:44.168219Z",
          "start_time": "2021-12-21T12:48:44.160792Z"
        },
        "id": "_GL7nooLsUMv"
      },
      "outputs": [],
      "source": [
        "X_train, X_test, y_train, y_test = train_test_split(data.iloc[:,:-1],data.iloc[:,-1] ,test_size=0.3, shuffle=True) "
      ]
    },
    {
      "cell_type": "code",
      "execution_count": 67,
      "metadata": {
        "ExecuteTime": {
          "end_time": "2021-12-21T12:48:44.806873Z",
          "start_time": "2021-12-21T12:48:44.792283Z"
        },
        "colab": {
          "base_uri": "https://localhost:8080/"
        },
        "id": "oKcF7tR1sUMw",
        "outputId": "1a6fa808-62b5-4a00-baa8-58b5276a08e9"
      },
      "outputs": [
        {
          "output_type": "execute_result",
          "data": {
            "text/plain": [
              "Perceptron()"
            ]
          },
          "metadata": {},
          "execution_count": 67
        }
      ],
      "source": [
        "model.fit(X_train,y_train)"
      ]
    },
    {
      "cell_type": "code",
      "execution_count": 68,
      "metadata": {
        "ExecuteTime": {
          "end_time": "2021-12-21T12:48:45.414075Z",
          "start_time": "2021-12-21T12:48:45.406444Z"
        },
        "colab": {
          "base_uri": "https://localhost:8080/"
        },
        "id": "DBWkYVEwsUM1",
        "outputId": "b663c3ee-62e7-4832-bd0c-21421c68d6a3"
      },
      "outputs": [
        {
          "output_type": "execute_result",
          "data": {
            "text/plain": [
              "0.3233333333333333"
            ]
          },
          "metadata": {},
          "execution_count": 68
        }
      ],
      "source": [
        "metrics.accuracy_score(model.predict(data.iloc[:,:-1].values),np.array(data.iloc[:,-1]))"
      ]
    },
    {
      "cell_type": "code",
      "execution_count": 69,
      "metadata": {
        "ExecuteTime": {
          "end_time": "2021-12-21T12:48:45.996093Z",
          "start_time": "2021-12-21T12:48:45.988447Z"
        },
        "id": "zFVHVuHisUM2"
      },
      "outputs": [],
      "source": [
        "data=pd.read_csv(\"logisticdrawback.csv\")"
      ]
    },
    {
      "cell_type": "code",
      "execution_count": 72,
      "metadata": {
        "ExecuteTime": {
          "end_time": "2021-12-21T12:48:46.623109Z",
          "start_time": "2021-12-21T12:48:46.614483Z"
        },
        "colab": {
          "base_uri": "https://localhost:8080/"
        },
        "id": "luVlH-d3sUM4",
        "outputId": "e268c5aa-5023-4561-e2d2-d42067737d90"
      },
      "outputs": [
        {
          "output_type": "execute_result",
          "data": {
            "text/plain": [
              "array([ 1.532     ,  0.384272  ,  0.64909767, -0.12957911])"
            ]
          },
          "metadata": {},
          "execution_count": 72
        }
      ],
      "source": [
        "perceptron.weights"
      ]
    },
    {
      "cell_type": "markdown",
      "metadata": {
        "heading_collapsed": true,
        "id": "24SJ9CN5sUM5"
      },
      "source": [
        "# MLP"
      ]
    },
    {
      "cell_type": "markdown",
      "metadata": {
        "id": "KnzF5VOtsUM6"
      },
      "source": [
        "# logistic regression with mlp"
      ]
    },
    {
      "cell_type": "code",
      "execution_count": 73,
      "metadata": {
        "ExecuteTime": {
          "end_time": "2021-12-21T12:48:49.191734Z",
          "start_time": "2021-12-21T12:48:49.102835Z"
        },
        "id": "qLI_upXKsUM-"
      },
      "outputs": [],
      "source": [
        "import seaborn as sns \n",
        "iris=sns.load_dataset(\"iris\")\n",
        "def f(x):\n",
        "    if x==\"setosa\":\n",
        "        return 0\n",
        "    if x==\"versicolor\":\n",
        "        return 1\n",
        "    if x==\"virginica\":\n",
        "        return 2\n",
        "iris[\"species\"]=iris[\"species\"].apply(f)"
      ]
    },
    {
      "cell_type": "code",
      "execution_count": 74,
      "metadata": {
        "ExecuteTime": {
          "end_time": "2021-12-21T12:48:49.737182Z",
          "start_time": "2021-12-21T12:48:49.712795Z"
        },
        "colab": {
          "base_uri": "https://localhost:8080/",
          "height": 424
        },
        "id": "Rm5Lr1HnsUNA",
        "outputId": "37a57969-2cd5-4e0e-f44c-94148f2f69e0"
      },
      "outputs": [
        {
          "output_type": "execute_result",
          "data": {
            "text/plain": [
              "     sepal_length  sepal_width  petal_length  petal_width  species\n",
              "0             5.1          3.5           1.4          0.2        0\n",
              "1             4.9          3.0           1.4          0.2        0\n",
              "2             4.7          3.2           1.3          0.2        0\n",
              "3             4.6          3.1           1.5          0.2        0\n",
              "4             5.0          3.6           1.4          0.2        0\n",
              "..            ...          ...           ...          ...      ...\n",
              "145           6.7          3.0           5.2          2.3        2\n",
              "146           6.3          2.5           5.0          1.9        2\n",
              "147           6.5          3.0           5.2          2.0        2\n",
              "148           6.2          3.4           5.4          2.3        2\n",
              "149           5.9          3.0           5.1          1.8        2\n",
              "\n",
              "[150 rows x 5 columns]"
            ],
            "text/html": [
              "\n",
              "  <div id=\"df-6fff7db4-d7be-48fb-8d3b-1d03f349f8b9\">\n",
              "    <div class=\"colab-df-container\">\n",
              "      <div>\n",
              "<style scoped>\n",
              "    .dataframe tbody tr th:only-of-type {\n",
              "        vertical-align: middle;\n",
              "    }\n",
              "\n",
              "    .dataframe tbody tr th {\n",
              "        vertical-align: top;\n",
              "    }\n",
              "\n",
              "    .dataframe thead th {\n",
              "        text-align: right;\n",
              "    }\n",
              "</style>\n",
              "<table border=\"1\" class=\"dataframe\">\n",
              "  <thead>\n",
              "    <tr style=\"text-align: right;\">\n",
              "      <th></th>\n",
              "      <th>sepal_length</th>\n",
              "      <th>sepal_width</th>\n",
              "      <th>petal_length</th>\n",
              "      <th>petal_width</th>\n",
              "      <th>species</th>\n",
              "    </tr>\n",
              "  </thead>\n",
              "  <tbody>\n",
              "    <tr>\n",
              "      <th>0</th>\n",
              "      <td>5.1</td>\n",
              "      <td>3.5</td>\n",
              "      <td>1.4</td>\n",
              "      <td>0.2</td>\n",
              "      <td>0</td>\n",
              "    </tr>\n",
              "    <tr>\n",
              "      <th>1</th>\n",
              "      <td>4.9</td>\n",
              "      <td>3.0</td>\n",
              "      <td>1.4</td>\n",
              "      <td>0.2</td>\n",
              "      <td>0</td>\n",
              "    </tr>\n",
              "    <tr>\n",
              "      <th>2</th>\n",
              "      <td>4.7</td>\n",
              "      <td>3.2</td>\n",
              "      <td>1.3</td>\n",
              "      <td>0.2</td>\n",
              "      <td>0</td>\n",
              "    </tr>\n",
              "    <tr>\n",
              "      <th>3</th>\n",
              "      <td>4.6</td>\n",
              "      <td>3.1</td>\n",
              "      <td>1.5</td>\n",
              "      <td>0.2</td>\n",
              "      <td>0</td>\n",
              "    </tr>\n",
              "    <tr>\n",
              "      <th>4</th>\n",
              "      <td>5.0</td>\n",
              "      <td>3.6</td>\n",
              "      <td>1.4</td>\n",
              "      <td>0.2</td>\n",
              "      <td>0</td>\n",
              "    </tr>\n",
              "    <tr>\n",
              "      <th>...</th>\n",
              "      <td>...</td>\n",
              "      <td>...</td>\n",
              "      <td>...</td>\n",
              "      <td>...</td>\n",
              "      <td>...</td>\n",
              "    </tr>\n",
              "    <tr>\n",
              "      <th>145</th>\n",
              "      <td>6.7</td>\n",
              "      <td>3.0</td>\n",
              "      <td>5.2</td>\n",
              "      <td>2.3</td>\n",
              "      <td>2</td>\n",
              "    </tr>\n",
              "    <tr>\n",
              "      <th>146</th>\n",
              "      <td>6.3</td>\n",
              "      <td>2.5</td>\n",
              "      <td>5.0</td>\n",
              "      <td>1.9</td>\n",
              "      <td>2</td>\n",
              "    </tr>\n",
              "    <tr>\n",
              "      <th>147</th>\n",
              "      <td>6.5</td>\n",
              "      <td>3.0</td>\n",
              "      <td>5.2</td>\n",
              "      <td>2.0</td>\n",
              "      <td>2</td>\n",
              "    </tr>\n",
              "    <tr>\n",
              "      <th>148</th>\n",
              "      <td>6.2</td>\n",
              "      <td>3.4</td>\n",
              "      <td>5.4</td>\n",
              "      <td>2.3</td>\n",
              "      <td>2</td>\n",
              "    </tr>\n",
              "    <tr>\n",
              "      <th>149</th>\n",
              "      <td>5.9</td>\n",
              "      <td>3.0</td>\n",
              "      <td>5.1</td>\n",
              "      <td>1.8</td>\n",
              "      <td>2</td>\n",
              "    </tr>\n",
              "  </tbody>\n",
              "</table>\n",
              "<p>150 rows × 5 columns</p>\n",
              "</div>\n",
              "      <button class=\"colab-df-convert\" onclick=\"convertToInteractive('df-6fff7db4-d7be-48fb-8d3b-1d03f349f8b9')\"\n",
              "              title=\"Convert this dataframe to an interactive table.\"\n",
              "              style=\"display:none;\">\n",
              "        \n",
              "  <svg xmlns=\"http://www.w3.org/2000/svg\" height=\"24px\"viewBox=\"0 0 24 24\"\n",
              "       width=\"24px\">\n",
              "    <path d=\"M0 0h24v24H0V0z\" fill=\"none\"/>\n",
              "    <path d=\"M18.56 5.44l.94 2.06.94-2.06 2.06-.94-2.06-.94-.94-2.06-.94 2.06-2.06.94zm-11 1L8.5 8.5l.94-2.06 2.06-.94-2.06-.94L8.5 2.5l-.94 2.06-2.06.94zm10 10l.94 2.06.94-2.06 2.06-.94-2.06-.94-.94-2.06-.94 2.06-2.06.94z\"/><path d=\"M17.41 7.96l-1.37-1.37c-.4-.4-.92-.59-1.43-.59-.52 0-1.04.2-1.43.59L10.3 9.45l-7.72 7.72c-.78.78-.78 2.05 0 2.83L4 21.41c.39.39.9.59 1.41.59.51 0 1.02-.2 1.41-.59l7.78-7.78 2.81-2.81c.8-.78.8-2.07 0-2.86zM5.41 20L4 18.59l7.72-7.72 1.47 1.35L5.41 20z\"/>\n",
              "  </svg>\n",
              "      </button>\n",
              "      \n",
              "  <style>\n",
              "    .colab-df-container {\n",
              "      display:flex;\n",
              "      flex-wrap:wrap;\n",
              "      gap: 12px;\n",
              "    }\n",
              "\n",
              "    .colab-df-convert {\n",
              "      background-color: #E8F0FE;\n",
              "      border: none;\n",
              "      border-radius: 50%;\n",
              "      cursor: pointer;\n",
              "      display: none;\n",
              "      fill: #1967D2;\n",
              "      height: 32px;\n",
              "      padding: 0 0 0 0;\n",
              "      width: 32px;\n",
              "    }\n",
              "\n",
              "    .colab-df-convert:hover {\n",
              "      background-color: #E2EBFA;\n",
              "      box-shadow: 0px 1px 2px rgba(60, 64, 67, 0.3), 0px 1px 3px 1px rgba(60, 64, 67, 0.15);\n",
              "      fill: #174EA6;\n",
              "    }\n",
              "\n",
              "    [theme=dark] .colab-df-convert {\n",
              "      background-color: #3B4455;\n",
              "      fill: #D2E3FC;\n",
              "    }\n",
              "\n",
              "    [theme=dark] .colab-df-convert:hover {\n",
              "      background-color: #434B5C;\n",
              "      box-shadow: 0px 1px 3px 1px rgba(0, 0, 0, 0.15);\n",
              "      filter: drop-shadow(0px 1px 2px rgba(0, 0, 0, 0.3));\n",
              "      fill: #FFFFFF;\n",
              "    }\n",
              "  </style>\n",
              "\n",
              "      <script>\n",
              "        const buttonEl =\n",
              "          document.querySelector('#df-6fff7db4-d7be-48fb-8d3b-1d03f349f8b9 button.colab-df-convert');\n",
              "        buttonEl.style.display =\n",
              "          google.colab.kernel.accessAllowed ? 'block' : 'none';\n",
              "\n",
              "        async function convertToInteractive(key) {\n",
              "          const element = document.querySelector('#df-6fff7db4-d7be-48fb-8d3b-1d03f349f8b9');\n",
              "          const dataTable =\n",
              "            await google.colab.kernel.invokeFunction('convertToInteractive',\n",
              "                                                     [key], {});\n",
              "          if (!dataTable) return;\n",
              "\n",
              "          const docLinkHtml = 'Like what you see? Visit the ' +\n",
              "            '<a target=\"_blank\" href=https://colab.research.google.com/notebooks/data_table.ipynb>data table notebook</a>'\n",
              "            + ' to learn more about interactive tables.';\n",
              "          element.innerHTML = '';\n",
              "          dataTable['output_type'] = 'display_data';\n",
              "          await google.colab.output.renderOutput(dataTable, element);\n",
              "          const docLink = document.createElement('div');\n",
              "          docLink.innerHTML = docLinkHtml;\n",
              "          element.appendChild(docLink);\n",
              "        }\n",
              "      </script>\n",
              "    </div>\n",
              "  </div>\n",
              "  "
            ]
          },
          "metadata": {},
          "execution_count": 74
        }
      ],
      "source": [
        "iris"
      ]
    },
    {
      "cell_type": "code",
      "execution_count": 79,
      "metadata": {
        "ExecuteTime": {
          "end_time": "2021-12-21T12:49:06.058894Z",
          "start_time": "2021-12-21T12:48:50.280788Z"
        },
        "scrolled": false,
        "colab": {
          "base_uri": "https://localhost:8080/"
        },
        "id": "oU3TmG7wsUNB",
        "outputId": "897691ac-7caa-40e3-b61e-4319ae0d5a14"
      },
      "outputs": [
        {
          "output_type": "stream",
          "name": "stdout",
          "text": [
            "Epoch 1/20\n",
            "4/4 [==============================] - 1s 4ms/step - loss: 0.7605 - accuracy: 0.6833\n",
            "Epoch 2/20\n",
            "4/4 [==============================] - 0s 4ms/step - loss: 0.7039 - accuracy: 0.6000\n",
            "Epoch 3/20\n",
            "4/4 [==============================] - 0s 4ms/step - loss: 0.6768 - accuracy: 0.6667\n",
            "Epoch 4/20\n",
            "4/4 [==============================] - 0s 3ms/step - loss: 0.6037 - accuracy: 0.6750\n",
            "Epoch 5/20\n",
            "4/4 [==============================] - 0s 5ms/step - loss: 0.5849 - accuracy: 0.6750\n",
            "Epoch 6/20\n",
            "4/4 [==============================] - 0s 6ms/step - loss: 0.5476 - accuracy: 0.6833\n",
            "Epoch 7/20\n",
            "4/4 [==============================] - 0s 4ms/step - loss: 0.5241 - accuracy: 0.7333\n",
            "Epoch 8/20\n",
            "4/4 [==============================] - 0s 3ms/step - loss: 0.5032 - accuracy: 0.8333\n",
            "Epoch 9/20\n",
            "4/4 [==============================] - 0s 4ms/step - loss: 0.4840 - accuracy: 0.8333\n",
            "Epoch 10/20\n",
            "4/4 [==============================] - 0s 4ms/step - loss: 0.4674 - accuracy: 0.7500\n",
            "Epoch 11/20\n",
            "4/4 [==============================] - 0s 4ms/step - loss: 0.4599 - accuracy: 0.8750\n",
            "Epoch 12/20\n",
            "4/4 [==============================] - 0s 5ms/step - loss: 0.4488 - accuracy: 0.7583\n",
            "Epoch 13/20\n",
            "4/4 [==============================] - 0s 4ms/step - loss: 0.4349 - accuracy: 0.9250\n",
            "Epoch 14/20\n",
            "4/4 [==============================] - 0s 4ms/step - loss: 0.4282 - accuracy: 0.8500\n",
            "Epoch 15/20\n",
            "4/4 [==============================] - 0s 4ms/step - loss: 0.4202 - accuracy: 0.8917\n",
            "Epoch 16/20\n",
            "4/4 [==============================] - 0s 5ms/step - loss: 0.4062 - accuracy: 0.9500\n",
            "Epoch 17/20\n",
            "4/4 [==============================] - 0s 4ms/step - loss: 0.4017 - accuracy: 0.8333\n",
            "Epoch 18/20\n",
            "4/4 [==============================] - 0s 3ms/step - loss: 0.4069 - accuracy: 0.9250\n",
            "Epoch 19/20\n",
            "4/4 [==============================] - 0s 4ms/step - loss: 0.3947 - accuracy: 0.8250\n",
            "Epoch 20/20\n",
            "4/4 [==============================] - 0s 4ms/step - loss: 0.3813 - accuracy: 0.9167\n",
            "1/1 [==============================] - 0s 192ms/step - loss: 0.3371 - accuracy: 0.9667\n"
          ]
        }
      ],
      "source": [
        "from tensorflow.keras.optimizers import SGD\n",
        "from tensorflow.keras import utils\n",
        "from tensorflow.keras.models import Sequential\n",
        "from tensorflow.keras.layers import Dense\n",
        "# Generate dummy data\n",
        "import numpy as np\n",
        "\n",
        "x_train,x_test,y_train,y_test=train_test_split(iris.iloc[:,:4],iris.iloc[:,-1], test_size=0.2)\n",
        "y__test = utils.to_categorical(y_test)\n",
        "y__train = utils.to_categorical(y_train)              #gives similar results like onehot encoding\n",
        "\n",
        "\n",
        "model = Sequential()\n",
        "model.add(Dense(3, activation='softmax',input_dim=4))\n",
        "sgd =  SGD(lr=0.01, decay=1e-6, momentum=0.9, nesterov=True)\n",
        "model.compile(loss='categorical_crossentropy',\n",
        "              optimizer=sgd,\n",
        "              metrics=['accuracy'])\n",
        "\n",
        "model.fit(x_train.values, y__train,\n",
        "          epochs=20,\n",
        "          batch_size=32)\n",
        "score = model.evaluate(x_test, y__test)"
      ]
    },
    {
      "cell_type": "code",
      "execution_count": 80,
      "metadata": {
        "ExecuteTime": {
          "end_time": "2021-12-21T12:49:06.067234Z",
          "start_time": "2021-12-21T12:49:06.062119Z"
        },
        "colab": {
          "base_uri": "https://localhost:8080/"
        },
        "id": "y6JpB8uMsUOU",
        "outputId": "be99a032-5942-4daa-ef24-1fd93194f15e"
      },
      "outputs": [
        {
          "output_type": "execute_result",
          "data": {
            "text/plain": [
              "[0.3371327817440033, 0.9666666388511658]"
            ]
          },
          "metadata": {},
          "execution_count": 80
        }
      ],
      "source": [
        "score "
      ]
    },
    {
      "cell_type": "code",
      "execution_count": 98,
      "metadata": {
        "ExecuteTime": {
          "end_time": "2021-12-21T12:50:09.093792Z",
          "start_time": "2021-12-21T12:50:08.982222Z"
        },
        "colab": {
          "base_uri": "https://localhost:8080/"
        },
        "id": "xdZJKoHfsUOV",
        "outputId": "81523e9a-91a4-4df5-a0f6-2ed997428933"
      },
      "outputs": [
        {
          "output_type": "execute_result",
          "data": {
            "text/plain": [
              "array([[3.47297959e-04, 2.64679074e-01, 7.34973609e-01],\n",
              "       [2.81771179e-03, 2.17092678e-01, 7.80089617e-01],\n",
              "       [3.76522145e-03, 3.06935579e-01, 6.89299285e-01],\n",
              "       [4.13159188e-03, 2.88079798e-01, 7.07788587e-01],\n",
              "       [6.05591573e-02, 6.08325303e-01, 3.31115484e-01],\n",
              "       [9.37034905e-01, 5.89437522e-02, 4.02136194e-03],\n",
              "       [3.91163789e-02, 5.05390286e-01, 4.55493391e-01],\n",
              "       [9.12243605e-01, 8.06221142e-02, 7.13432953e-03],\n",
              "       [9.18590724e-01, 7.70140588e-02, 4.39520460e-03],\n",
              "       [1.61957979e-01, 5.93205929e-01, 2.44836122e-01],\n",
              "       [6.55138493e-03, 4.14234072e-01, 5.79214573e-01],\n",
              "       [8.94957840e-01, 9.82770547e-02, 6.76514721e-03],\n",
              "       [9.22948539e-01, 7.19298273e-02, 5.12164179e-03],\n",
              "       [5.76378927e-02, 4.80895370e-01, 4.61466759e-01],\n",
              "       [8.90199661e-01, 1.02735125e-01, 7.06514157e-03],\n",
              "       [9.53605592e-01, 4.32604887e-02, 3.13394540e-03],\n",
              "       [8.89657378e-01, 1.00824222e-01, 9.51836910e-03],\n",
              "       [2.58902572e-02, 6.28504515e-01, 3.45605165e-01],\n",
              "       [9.54741418e-01, 4.24587652e-02, 2.79981480e-03],\n",
              "       [6.52863411e-03, 2.42268443e-01, 7.51202941e-01],\n",
              "       [3.93992811e-02, 3.99718344e-01, 5.60882390e-01],\n",
              "       [7.04271942e-02, 6.27089083e-01, 3.02483708e-01],\n",
              "       [8.10599402e-02, 6.32056594e-01, 2.86883444e-01],\n",
              "       [4.28797752e-02, 6.92749441e-01, 2.64370799e-01],\n",
              "       [2.80906656e-03, 2.63527989e-01, 7.33662903e-01],\n",
              "       [6.38221800e-02, 6.10354900e-01, 3.25822860e-01],\n",
              "       [6.27220571e-02, 6.44223690e-01, 2.93054193e-01],\n",
              "       [2.92430562e-03, 2.86986619e-01, 7.10089087e-01],\n",
              "       [9.66260314e-01, 3.15823071e-02, 2.15748255e-03],\n",
              "       [3.98144126e-02, 5.94333053e-01, 3.65852535e-01]], dtype=float32)"
            ]
          },
          "metadata": {},
          "execution_count": 98
        }
      ],
      "source": [
        "model.predict(x_test)"
      ]
    },
    {
      "cell_type": "code",
      "execution_count": 84,
      "metadata": {
        "ExecuteTime": {
          "end_time": "2021-12-21T12:50:10.716733Z",
          "start_time": "2021-12-21T12:50:10.710922Z"
        },
        "id": "l9WIVYNJsUOY"
      },
      "outputs": [],
      "source": [
        "weights = model.layers[0].get_weights()[0]\n",
        "biases = model.layers[0].get_weights()[1]"
      ]
    },
    {
      "cell_type": "code",
      "execution_count": 85,
      "metadata": {
        "ExecuteTime": {
          "end_time": "2021-12-21T12:50:11.237597Z",
          "start_time": "2021-12-21T12:50:11.232058Z"
        },
        "colab": {
          "base_uri": "https://localhost:8080/"
        },
        "id": "6kfvmj2SsUOZ",
        "outputId": "c1c80361-f0a6-47e0-bb32-606d231349ce"
      },
      "outputs": [
        {
          "output_type": "execute_result",
          "data": {
            "text/plain": [
              "array([[ 0.6354622 ,  0.92798644,  0.1820975 ],\n",
              "       [ 1.3146943 , -0.32341817, -0.2691025 ],\n",
              "       [-0.9788314 , -0.13018808,  0.5711278 ],\n",
              "       [-1.2107708 , -0.01791678,  0.9029305 ]], dtype=float32)"
            ]
          },
          "metadata": {},
          "execution_count": 85
        }
      ],
      "source": [
        "weights"
      ]
    },
    {
      "cell_type": "code",
      "execution_count": 86,
      "metadata": {
        "ExecuteTime": {
          "end_time": "2021-12-21T12:50:12.495540Z",
          "start_time": "2021-12-21T12:50:12.490163Z"
        },
        "colab": {
          "base_uri": "https://localhost:8080/"
        },
        "id": "Vj2x6OFNsUOb",
        "outputId": "26c0cd1d-3652-465f-dd74-309a5b84604e"
      },
      "outputs": [
        {
          "output_type": "execute_result",
          "data": {
            "text/plain": [
              "array([ 0.08216723,  0.12571016, -0.20787741], dtype=float32)"
            ]
          },
          "metadata": {},
          "execution_count": 86
        }
      ],
      "source": [
        "biases"
      ]
    },
    {
      "cell_type": "code",
      "execution_count": 100,
      "metadata": {
        "ExecuteTime": {
          "end_time": "2021-12-21T12:50:13.666181Z",
          "start_time": "2021-12-21T12:50:13.661029Z"
        },
        "id": "9FlU6b_8sUOf"
      },
      "outputs": [],
      "source": [
        "from sklearn.linear_model import LogisticRegression\n",
        "from sklearn.metrics import confusion_matrix\n"
      ]
    },
    {
      "cell_type": "code",
      "execution_count": 101,
      "metadata": {
        "ExecuteTime": {
          "end_time": "2021-12-21T12:50:14.328175Z",
          "start_time": "2021-12-21T12:50:14.291615Z"
        },
        "colab": {
          "base_uri": "https://localhost:8080/"
        },
        "id": "TyBxpy50sUOg",
        "outputId": "44d1c079-5df1-4fbf-9ce5-e28611efd127"
      },
      "outputs": [
        {
          "output_type": "execute_result",
          "data": {
            "text/plain": [
              "LogisticRegression()"
            ]
          },
          "metadata": {},
          "execution_count": 101
        }
      ],
      "source": [
        "l=LogisticRegression()\n",
        "l.fit(x_train, y_train)"
      ]
    },
    {
      "cell_type": "code",
      "execution_count": 102,
      "metadata": {
        "ExecuteTime": {
          "end_time": "2021-12-21T12:50:15.842127Z",
          "start_time": "2021-12-21T12:50:15.835875Z"
        },
        "colab": {
          "base_uri": "https://localhost:8080/"
        },
        "id": "F8B15Js_sUOh",
        "outputId": "b784b0f6-e417-4665-f21f-8900f69316c6"
      },
      "outputs": [
        {
          "output_type": "execute_result",
          "data": {
            "text/plain": [
              "array([  9.49560908,   1.94847393, -11.44408301])"
            ]
          },
          "metadata": {},
          "execution_count": 102
        }
      ],
      "source": [
        "l.intercept_                   #same as bias in mlp"
      ]
    },
    {
      "cell_type": "code",
      "execution_count": 103,
      "metadata": {
        "ExecuteTime": {
          "end_time": "2021-12-21T12:50:16.942115Z",
          "start_time": "2021-12-21T12:50:16.936218Z"
        },
        "colab": {
          "base_uri": "https://localhost:8080/"
        },
        "id": "X2NCdcaZsUOl",
        "outputId": "2ca38cc8-9b07-4da5-eb56-253e4a4f0af1"
      },
      "outputs": [
        {
          "output_type": "execute_result",
          "data": {
            "text/plain": [
              "array([[-0.4063298 ,  0.86942564, -2.38457617, -0.96101224],\n",
              "       [ 0.49150516, -0.28037885, -0.1746267 , -0.89171063],\n",
              "       [-0.08517536, -0.58904678,  2.55920287,  1.85272287]])"
            ]
          },
          "metadata": {},
          "execution_count": 103
        }
      ],
      "source": [
        "l.coef_             #same as weights in mlp"
      ]
    },
    {
      "cell_type": "code",
      "execution_count": 104,
      "metadata": {
        "ExecuteTime": {
          "end_time": "2021-12-21T12:50:17.969505Z",
          "start_time": "2021-12-21T12:50:17.931790Z"
        },
        "colab": {
          "base_uri": "https://localhost:8080/"
        },
        "id": "zX_l9ofjsUOn",
        "outputId": "e35d8722-b4a4-4707-a8ed-dd2f34c3d1c3"
      },
      "outputs": [
        {
          "output_type": "execute_result",
          "data": {
            "text/plain": [
              "array([[10,  0,  0],\n",
              "       [ 0, 12,  0],\n",
              "       [ 0,  0,  8]])"
            ]
          },
          "metadata": {},
          "execution_count": 104
        }
      ],
      "source": [
        "l=LogisticRegression()\n",
        "l.fit(x_train,y_train)\n",
        "confusion_matrix(y_test,l.predict(x_test))"
      ]
    },
    {
      "cell_type": "markdown",
      "metadata": {
        "id": "4Htd3rQMsUOs"
      },
      "source": [
        "# problems with traditional ann"
      ]
    },
    {
      "cell_type": "code",
      "execution_count": 1,
      "metadata": {
        "ExecuteTime": {
          "end_time": "2021-12-21T12:50:20.668148Z",
          "start_time": "2021-12-21T12:50:20.653467Z"
        },
        "id": "jE-p8eMPsUOt"
      },
      "outputs": [],
      "source": [
        "import matplotlib.pyplot as plt\n",
        "%matplotlib inline"
      ]
    },
    {
      "cell_type": "code",
      "execution_count": 120,
      "metadata": {
        "ExecuteTime": {
          "end_time": "2021-12-21T12:50:22.295087Z",
          "start_time": "2021-12-21T12:50:21.637712Z"
        },
        "colab": {
          "base_uri": "https://localhost:8080/",
          "height": 268
        },
        "id": "NAbg6mKmsUOv",
        "outputId": "7116efaa-a985-415d-a917-b1be0767d064"
      },
      "outputs": [
        {
          "output_type": "display_data",
          "data": {
            "text/plain": [
              "<Figure size 432x288 with 9 Axes>"
            ],
            "image/png": "[encoded data removed]"
          },
          "metadata": {
            "needs_background": "light"
          }
        }
      ],
      "source": [
        "# load (downloaded if needed) the MNIST dataset\n",
        "import tensorflow as tf\n",
        "\n",
        "(X_train, y_train), (X_test, y_test) = tf.keras.datasets.mnist.load_data()\n",
        "# plot 4 images as gray scale\n",
        "plt.subplot(331)\n",
        "plt.imshow(X_train[0], cmap=plt.get_cmap('gray'))\n",
        "plt.subplot(332)\n",
        "plt.imshow(X_train[1], cmap=plt.get_cmap('gray'))\n",
        "plt.subplot(333)\n",
        "plt.imshow(X_train[2], cmap=plt.get_cmap('gray'))\n",
        "plt.subplot(334)\n",
        "plt.imshow(X_train[3], cmap=plt.get_cmap('gray'))\n",
        "plt.subplot(335)\n",
        "plt.imshow(X_train[4], cmap=plt.get_cmap('gray'))\n",
        "plt.subplot(336)\n",
        "plt.imshow(X_train[5], cmap=plt.get_cmap('gray'))\n",
        "plt.subplot(337)\n",
        "plt.imshow(X_train[6], cmap=plt.get_cmap('gray'))\n",
        "plt.subplot(338)\n",
        "plt.imshow(X_train[7], cmap=plt.get_cmap('gray'))\n",
        "plt.subplot(339)\n",
        "plt.imshow(X_train[8], cmap=plt.get_cmap('gray'))\n",
        "\n",
        "# show the plot\n",
        "plt.show()"
      ]
    },
    {
      "cell_type": "code",
      "execution_count": 121,
      "metadata": {
        "ExecuteTime": {
          "end_time": "2021-12-21T12:50:23.306539Z",
          "start_time": "2021-12-21T12:50:23.298403Z"
        },
        "colab": {
          "base_uri": "https://localhost:8080/"
        },
        "id": "SVrKEz8YsUOz",
        "outputId": "9fcf6617-1812-49ef-8db2-765073ed069d"
      },
      "outputs": [
        {
          "output_type": "execute_result",
          "data": {
            "text/plain": [
              "array([[  0,   0,   0,   0,   0,   0,   0,   0,   0,   0,   0,   0,   0,\n",
              "          0,   0,   0,   0,   0,   0,   0,   0,   0,   0,   0,   0,   0,\n",
              "          0,   0],\n",
              "       [  0,   0,   0,   0,   0,   0,   0,   0,   0,   0,   0,   0,   0,\n",
              "          0,   0,   0,   0,   0,   0,   0,   0,   0,   0,   0,   0,   0,\n",
              "          0,   0],\n",
              "       [  0,   0,   0,   0,   0,   0,   0,   0,   0,   0,   0,   0,   0,\n",
              "          0,   0,   0,   0,   0,   0,   0,   0,   0,   0,   0,   0,   0,\n",
              "          0,   0],\n",
              "       [  0,   0,   0,   0,   0,   0,   0,   0,   0,   0,   0,   0,   0,\n",
              "          0,   0,   0,   0,   0,   0,   0,   0,   0,   0,   0,   0,   0,\n",
              "          0,   0],\n",
              "       [  0,   0,   0,   0,   0,   0,   0,   0,   0,   0,   0,   0,   0,\n",
              "          0,   0,   0,   0,   0,   0,   0,   0,   0,   0,   0,   0,   0,\n",
              "          0,   0],\n",
              "       [  0,   0,   0,   0,   0,   0,   0,   0,   0,   0,   0,   0,   3,\n",
              "         18,  18,  18, 126, 136, 175,  26, 166, 255, 247, 127,   0,   0,\n",
              "          0,   0],\n",
              "       [  0,   0,   0,   0,   0,   0,   0,   0,  30,  36,  94, 154, 170,\n",
              "        253, 253, 253, 253, 253, 225, 172, 253, 242, 195,  64,   0,   0,\n",
              "          0,   0],\n",
              "       [  0,   0,   0,   0,   0,   0,   0,  49, 238, 253, 253, 253, 253,\n",
              "        253, 253, 253, 253, 251,  93,  82,  82,  56,  39,   0,   0,   0,\n",
              "          0,   0],\n",
              "       [  0,   0,   0,   0,   0,   0,   0,  18, 219, 253, 253, 253, 253,\n",
              "        253, 198, 182, 247, 241,   0,   0,   0,   0,   0,   0,   0,   0,\n",
              "          0,   0],\n",
              "       [  0,   0,   0,   0,   0,   0,   0,   0,  80, 156, 107, 253, 253,\n",
              "        205,  11,   0,  43, 154,   0,   0,   0,   0,   0,   0,   0,   0,\n",
              "          0,   0],\n",
              "       [  0,   0,   0,   0,   0,   0,   0,   0,   0,  14,   1, 154, 253,\n",
              "         90,   0,   0,   0,   0,   0,   0,   0,   0,   0,   0,   0,   0,\n",
              "          0,   0],\n",
              "       [  0,   0,   0,   0,   0,   0,   0,   0,   0,   0,   0, 139, 253,\n",
              "        190,   2,   0,   0,   0,   0,   0,   0,   0,   0,   0,   0,   0,\n",
              "          0,   0],\n",
              "       [  0,   0,   0,   0,   0,   0,   0,   0,   0,   0,   0,  11, 190,\n",
              "        253,  70,   0,   0,   0,   0,   0,   0,   0,   0,   0,   0,   0,\n",
              "          0,   0],\n",
              "       [  0,   0,   0,   0,   0,   0,   0,   0,   0,   0,   0,   0,  35,\n",
              "        241, 225, 160, 108,   1,   0,   0,   0,   0,   0,   0,   0,   0,\n",
              "          0,   0],\n",
              "       [  0,   0,   0,   0,   0,   0,   0,   0,   0,   0,   0,   0,   0,\n",
              "         81, 240, 253, 253, 119,  25,   0,   0,   0,   0,   0,   0,   0,\n",
              "          0,   0],\n",
              "       [  0,   0,   0,   0,   0,   0,   0,   0,   0,   0,   0,   0,   0,\n",
              "          0,  45, 186, 253, 253, 150,  27,   0,   0,   0,   0,   0,   0,\n",
              "          0,   0],\n",
              "       [  0,   0,   0,   0,   0,   0,   0,   0,   0,   0,   0,   0,   0,\n",
              "          0,   0,  16,  93, 252, 253, 187,   0,   0,   0,   0,   0,   0,\n",
              "          0,   0],\n",
              "       [  0,   0,   0,   0,   0,   0,   0,   0,   0,   0,   0,   0,   0,\n",
              "          0,   0,   0,   0, 249, 253, 249,  64,   0,   0,   0,   0,   0,\n",
              "          0,   0],\n",
              "       [  0,   0,   0,   0,   0,   0,   0,   0,   0,   0,   0,   0,   0,\n",
              "          0,  46, 130, 183, 253, 253, 207,   2,   0,   0,   0,   0,   0,\n",
              "          0,   0],\n",
              "       [  0,   0,   0,   0,   0,   0,   0,   0,   0,   0,   0,   0,  39,\n",
              "        148, 229, 253, 253, 253, 250, 182,   0,   0,   0,   0,   0,   0,\n",
              "          0,   0],\n",
              "       [  0,   0,   0,   0,   0,   0,   0,   0,   0,   0,  24, 114, 221,\n",
              "        253, 253, 253, 253, 201,  78,   0,   0,   0,   0,   0,   0,   0,\n",
              "          0,   0],\n",
              "       [  0,   0,   0,   0,   0,   0,   0,   0,  23,  66, 213, 253, 253,\n",
              "        253, 253, 198,  81,   2,   0,   0,   0,   0,   0,   0,   0,   0,\n",
              "          0,   0],\n",
              "       [  0,   0,   0,   0,   0,   0,  18, 171, 219, 253, 253, 253, 253,\n",
              "        195,  80,   9,   0,   0,   0,   0,   0,   0,   0,   0,   0,   0,\n",
              "          0,   0],\n",
              "       [  0,   0,   0,   0,  55, 172, 226, 253, 253, 253, 253, 244, 133,\n",
              "         11,   0,   0,   0,   0,   0,   0,   0,   0,   0,   0,   0,   0,\n",
              "          0,   0],\n",
              "       [  0,   0,   0,   0, 136, 253, 253, 253, 212, 135, 132,  16,   0,\n",
              "          0,   0,   0,   0,   0,   0,   0,   0,   0,   0,   0,   0,   0,\n",
              "          0,   0],\n",
              "       [  0,   0,   0,   0,   0,   0,   0,   0,   0,   0,   0,   0,   0,\n",
              "          0,   0,   0,   0,   0,   0,   0,   0,   0,   0,   0,   0,   0,\n",
              "          0,   0],\n",
              "       [  0,   0,   0,   0,   0,   0,   0,   0,   0,   0,   0,   0,   0,\n",
              "          0,   0,   0,   0,   0,   0,   0,   0,   0,   0,   0,   0,   0,\n",
              "          0,   0],\n",
              "       [  0,   0,   0,   0,   0,   0,   0,   0,   0,   0,   0,   0,   0,\n",
              "          0,   0,   0,   0,   0,   0,   0,   0,   0,   0,   0,   0,   0,\n",
              "          0,   0]], dtype=uint8)"
            ]
          },
          "metadata": {},
          "execution_count": 121
        }
      ],
      "source": [
        "X_train[0]"
      ]
    },
    {
      "cell_type": "code",
      "execution_count": 110,
      "metadata": {
        "ExecuteTime": {
          "end_time": "2021-12-21T12:50:25.913408Z",
          "start_time": "2021-12-21T12:50:25.907508Z"
        },
        "colab": {
          "base_uri": "https://localhost:8080/"
        },
        "id": "bU-uM8tvsUO0",
        "outputId": "2d610c4c-b271-4c2f-9749-40f887b88757"
      },
      "outputs": [
        {
          "output_type": "execute_result",
          "data": {
            "text/plain": [
              "(60000, 28, 28)"
            ]
          },
          "metadata": {},
          "execution_count": 110
        }
      ],
      "source": [
        "X_train.shape"
      ]
    },
    {
      "cell_type": "code",
      "execution_count": 122,
      "metadata": {
        "ExecuteTime": {
          "end_time": "2021-12-21T12:50:26.786177Z",
          "start_time": "2021-12-21T12:50:26.547429Z"
        },
        "id": "aQl410l4sUO2"
      },
      "outputs": [],
      "source": [
        "num_pixels = X_train.shape[1] * X_train.shape[2]\n",
        "X_train = X_train.reshape(X_train.shape[0],num_pixels ).astype('float32')\n",
        "X_test = X_test.reshape(X_test.shape[0],num_pixels).astype('float32')\n",
        "\n",
        "X_train = X_train / 255\n",
        "X_test = X_test / 255"
      ]
    },
    {
      "cell_type": "code",
      "execution_count": 123,
      "metadata": {
        "ExecuteTime": {
          "end_time": "2021-12-21T12:50:27.360088Z",
          "start_time": "2021-12-21T12:50:27.353817Z"
        },
        "colab": {
          "base_uri": "https://localhost:8080/"
        },
        "id": "gTMtXF9fsUQE",
        "outputId": "d4d314ec-5cbb-43db-aced-31b016d37ba8"
      },
      "outputs": [
        {
          "output_type": "execute_result",
          "data": {
            "text/plain": [
              "(60000, 784)"
            ]
          },
          "metadata": {},
          "execution_count": 123
        }
      ],
      "source": [
        "X_train.shape"
      ]
    },
    {
      "cell_type": "code",
      "execution_count": null,
      "metadata": {
        "ExecuteTime": {
          "end_time": "2021-12-21T12:50:28.567532Z",
          "start_time": "2021-12-21T12:50:28.563583Z"
        },
        "id": "0_Bk58vpsUQG"
      },
      "outputs": [],
      "source": [
        "# y_train = np_utils.to_categorical(y_train)\n",
        "# y_test = np_utils.to_categorical(y_test)\n",
        "# num_classes =10"
      ]
    },
    {
      "cell_type": "code",
      "execution_count": 124,
      "metadata": {
        "ExecuteTime": {
          "end_time": "2021-12-21T12:50:29.040013Z",
          "start_time": "2021-12-21T12:50:29.035296Z"
        },
        "id": "1jZG34GxsUQH"
      },
      "outputs": [],
      "source": [
        "num_classes=10\n",
        "num_pixels=784"
      ]
    },
    {
      "cell_type": "code",
      "execution_count": 125,
      "metadata": {
        "ExecuteTime": {
          "end_time": "2021-12-21T12:50:29.773835Z",
          "start_time": "2021-12-21T12:50:29.743290Z"
        },
        "id": "74XvUmo2sUQK"
      },
      "outputs": [],
      "source": [
        "model = tf.keras.models.Sequential()\n",
        "model.add(tf.keras.layers.Dense(1000, input_dim=num_pixels, activation='relu'))\n",
        "model.add(tf.keras.layers.Dense(num_classes, activation='softmax'))"
      ]
    },
    {
      "cell_type": "code",
      "execution_count": null,
      "metadata": {
        "ExecuteTime": {
          "end_time": "2021-12-21T12:50:30.743297Z",
          "start_time": "2021-12-21T12:50:30.737846Z"
        },
        "id": "bUMX6zcksUQL"
      },
      "outputs": [],
      "source": [
        "model.summary()\n"
      ]
    },
    {
      "cell_type": "code",
      "execution_count": null,
      "metadata": {
        "id": "KBZTSkL4sUQM"
      },
      "outputs": [],
      "source": [
        ""
      ]
    },
    {
      "cell_type": "code",
      "execution_count": null,
      "metadata": {
        "ExecuteTime": {
          "end_time": "2021-12-21T12:50:32.608934Z",
          "start_time": "2021-12-21T12:50:32.600785Z"
        },
        "id": "lnxLVvJfsUQP"
      },
      "outputs": [],
      "source": [
        "model.compile(loss='sparse_categorical_crossentropy', optimizer='adam', metrics=['accuracy'])"
      ]
    },
    {
      "cell_type": "code",
      "execution_count": null,
      "metadata": {
        "ExecuteTime": {
          "end_time": "2021-12-21T12:50:33.821329Z",
          "start_time": "2021-12-21T12:50:33.814763Z"
        },
        "id": "PchPV7tLsUQQ"
      },
      "outputs": [],
      "source": [
        "y_test"
      ]
    },
    {
      "cell_type": "code",
      "execution_count": null,
      "metadata": {
        "ExecuteTime": {
          "end_time": "2021-12-21T12:50:56.440176Z",
          "start_time": "2021-12-21T12:50:34.766898Z"
        },
        "scrolled": true,
        "id": "aMp2I2-rsUQR"
      },
      "outputs": [],
      "source": [
        "model.fit(X_train, y_train, validation_data=(X_test, y_test), epochs=10, batch_size=1024, verbose=1)"
      ]
    },
    {
      "cell_type": "code",
      "execution_count": null,
      "metadata": {
        "ExecuteTime": {
          "end_time": "2021-12-21T12:50:59.075615Z",
          "start_time": "2021-12-21T12:50:58.795598Z"
        },
        "id": "kw6fAfjXsUQV"
      },
      "outputs": [],
      "source": [
        "(X_train1, y_train), (X_test1, y_test) = tf.keras.datasets.mnist.load_data()\n"
      ]
    },
    {
      "cell_type": "code",
      "execution_count": null,
      "metadata": {
        "id": "_dVU1HsKsUQW"
      },
      "outputs": [],
      "source": [
        ""
      ]
    },
    {
      "cell_type": "code",
      "execution_count": null,
      "metadata": {
        "ExecuteTime": {
          "end_time": "2021-12-21T12:52:25.580897Z",
          "start_time": "2021-12-21T12:52:25.395110Z"
        },
        "id": "mpfWnH7asUQX"
      },
      "outputs": [],
      "source": [
        "pic=np.zeros((28,28))\n",
        "pic=X_train1[3,:,:].copy()\n",
        "pic2=X_train1[3,:,:].copy()\n",
        "plt.imshow(pic)"
      ]
    },
    {
      "cell_type": "code",
      "execution_count": null,
      "metadata": {
        "ExecuteTime": {
          "end_time": "2021-12-21T12:52:26.172778Z",
          "start_time": "2021-12-21T12:52:26.130944Z"
        },
        "id": "Uetj1SXHsUQY"
      },
      "outputs": [],
      "source": [
        "np.argmax(model.predict(pic.reshape(1,784)))"
      ]
    },
    {
      "cell_type": "code",
      "execution_count": null,
      "metadata": {
        "ExecuteTime": {
          "end_time": "2021-12-21T12:52:26.959685Z",
          "start_time": "2021-12-21T12:52:26.776345Z"
        },
        "id": "drqs-Di_sUQd"
      },
      "outputs": [],
      "source": [
        "for i in range(pic.shape[0]):\n",
        "  if i<20:\n",
        "    pic[:,i]=pic[:,i+3]\n",
        "plt.imshow(pic)"
      ]
    },
    {
      "cell_type": "code",
      "execution_count": null,
      "metadata": {
        "ExecuteTime": {
          "end_time": "2021-12-21T12:52:27.509577Z",
          "start_time": "2021-12-21T12:52:27.467125Z"
        },
        "id": "MCsXv_pVsUQe"
      },
      "outputs": [],
      "source": [
        "np.argmax(model.predict(pic.reshape(1,784)))"
      ]
    },
    {
      "cell_type": "code",
      "execution_count": null,
      "metadata": {
        "ExecuteTime": {
          "end_time": "2021-12-21T12:52:28.325502Z",
          "start_time": "2021-12-21T12:52:28.142064Z"
        },
        "id": "Y06CIGLasUQf"
      },
      "outputs": [],
      "source": [
        "pic=np.zeros((28,28))\n",
        "\n",
        "for i in range(pic.shape[0]):\n",
        "  if  (i<25):\n",
        "    pic[:,i+3]=pic2[:,i]\n",
        "plt.imshow(pic)"
      ]
    },
    {
      "cell_type": "code",
      "execution_count": null,
      "metadata": {
        "ExecuteTime": {
          "end_time": "2021-12-21T12:52:28.947840Z",
          "start_time": "2021-12-21T12:52:28.897911Z"
        },
        "id": "SH9-n4__sUQi"
      },
      "outputs": [],
      "source": [
        "np.argmax(model.predict(pic.reshape(1,784)))"
      ]
    },
    {
      "cell_type": "markdown",
      "metadata": {
        "heading_collapsed": true,
        "id": "WPW4MO3isUSR"
      },
      "source": [
        "# rough work"
      ]
    },
    {
      "cell_type": "code",
      "execution_count": null,
      "metadata": {
        "hidden": true,
        "id": "xef6zNJ2sUST"
      },
      "outputs": [],
      "source": [
        ""
      ]
    },
    {
      "cell_type": "code",
      "execution_count": null,
      "metadata": {
        "hidden": true,
        "id": "4fFSRadosUSW"
      },
      "outputs": [],
      "source": [
        ""
      ]
    },
    {
      "cell_type": "code",
      "execution_count": null,
      "metadata": {
        "hidden": true,
        "id": "1G2MpOAusUSX"
      },
      "outputs": [],
      "source": [
        ""
      ]
    },
    {
      "cell_type": "code",
      "execution_count": null,
      "metadata": {
        "hidden": true,
        "id": "kPrZJC1gsUSX"
      },
      "outputs": [],
      "source": [
        ""
      ]
    },
    {
      "cell_type": "code",
      "execution_count": null,
      "metadata": {
        "hidden": true,
        "id": "RK9AnhJhsUSY"
      },
      "outputs": [],
      "source": [
        ""
      ]
    },
    {
      "cell_type": "code",
      "execution_count": null,
      "metadata": {
        "hidden": true,
        "id": "kDyA-XZTsUSb"
      },
      "outputs": [],
      "source": [
        ""
      ]
    },
    {
      "cell_type": "code",
      "execution_count": null,
      "metadata": {
        "hidden": true,
        "id": "FcCeEEersUSc"
      },
      "outputs": [],
      "source": [
        ""
      ]
    },
    {
      "cell_type": "code",
      "execution_count": null,
      "metadata": {
        "hidden": true,
        "id": "gcsiEaV8sUSd"
      },
      "outputs": [],
      "source": [
        ""
      ]
    },
    {
      "cell_type": "code",
      "execution_count": null,
      "metadata": {
        "hidden": true,
        "id": "wYl8Hg07sUSd"
      },
      "outputs": [],
      "source": [
        ""
      ]
    },
    {
      "cell_type": "code",
      "execution_count": null,
      "metadata": {
        "hidden": true,
        "id": "chlPKWM7sUUC"
      },
      "outputs": [],
      "source": [
        ""
      ]
    },
    {
      "cell_type": "code",
      "execution_count": null,
      "metadata": {
        "hidden": true,
        "id": "Ye9f9-efsUUF"
      },
      "outputs": [],
      "source": [
        ""
      ]
    },
    {
      "cell_type": "code",
      "execution_count": null,
      "metadata": {
        "hidden": true,
        "id": "rIIWkuXZsUUF"
      },
      "outputs": [],
      "source": [
        ""
      ]
    },
    {
      "cell_type": "code",
      "execution_count": null,
      "metadata": {
        "hidden": true,
        "id": "NbZjy_S_sUUG"
      },
      "outputs": [],
      "source": [
        ""
      ]
    },
    {
      "cell_type": "code",
      "execution_count": null,
      "metadata": {
        "hidden": true,
        "id": "QEA9u4xPsUUG"
      },
      "outputs": [],
      "source": [
        ""
      ]
    },
    {
      "cell_type": "code",
      "execution_count": null,
      "metadata": {
        "hidden": true,
        "id": "uFkFcMPRsUUJ"
      },
      "outputs": [],
      "source": [
        "# plt.scatter(iris[iris[\"species\"]==1].iloc[:,2],range(50))\n",
        "# plt.scatter(iris[iris[\"species\"]==0].iloc[:,2],range(50))\n",
        "# plt.scatter(iris[iris[\"species\"]==2].iloc[:,2],range(50))"
      ]
    },
    {
      "cell_type": "code",
      "execution_count": null,
      "metadata": {
        "hidden": true,
        "id": "QY9745G-sUUK"
      },
      "outputs": [],
      "source": [
        ""
      ]
    },
    {
      "cell_type": "code",
      "execution_count": null,
      "metadata": {
        "hidden": true,
        "id": "pZRVftATsUUM"
      },
      "outputs": [],
      "source": [
        "\n",
        "\n",
        "class CharacterTable(object):\n",
        "    \"\"\"Given a set of characters:\n",
        "    + Encode them to a one-hot integer representation\n",
        "    + Decode the one-hot or integer representation to their character output\n",
        "    + Decode a vector of probabilities to their character output\n",
        "    \"\"\"\n",
        "    def __init__(self, chars):\n",
        "        \"\"\"Initialize character table.\n",
        "\n",
        "        # Arguments\n",
        "            chars: Characters that can appear in the input.\n",
        "        \"\"\"\n",
        "        self.chars = sorted(set(chars))\n",
        "        self.char_indices = dict((c, i) for i, c in enumerate(self.chars))\n",
        "        self.indices_char = dict((i, c) for i, c in enumerate(self.chars))\n",
        "\n",
        "    def encode(self, C, num_rows):\n",
        "        \"\"\"One-hot encode given string C.\n",
        "\n",
        "        # Arguments\n",
        "            C: string, to be encoded.\n",
        "            num_rows: Number of rows in the returned one-hot encoding. This is\n",
        "                used to keep the # of rows for each data the same.\n",
        "        \"\"\"\n",
        "        x = np.zeros((num_rows, len(self.chars)))\n",
        "        for i, c in enumerate(C):\n",
        "            x[i, self.char_indices[c]] = 1\n",
        "        return x\n",
        "\n",
        "    def decode(self, x, calc_argmax=True):\n",
        "        \"\"\"Decode the given vector or 2D array to their character output.\n",
        "\n",
        "        # Arguments\n",
        "            x: A vector or a 2D array of probabilities or one-hot representations;\n",
        "                or a vector of character indices (used with `calc_argmax=False`).\n",
        "            calc_argmax: Whether to find the character index with maximum\n",
        "                probability, defaults to `True`.\n",
        "        \"\"\"\n",
        "        if calc_argmax:\n",
        "            x = x.argmax(axis=-1)\n",
        "        return ''.join(self.indices_char[x] for x in x)\n",
        "\n",
        "\n",
        "class colors:\n",
        "    ok = '\\033[92m'\n",
        "    fail = '\\033[91m'\n",
        "    close = '\\033[0m'\n",
        "\n",
        "# Parameters for the model and dataset.\n",
        "TRAINING_SIZE = 50000\n",
        "DIGITS = 3\n",
        "REVERSE = True\n",
        "\n",
        "# Maximum length of input is 'int + int' (e.g., '345+678'). Maximum length of\n",
        "# int is DIGITS.\n",
        "MAXLEN = DIGITS + 1 + DIGITS\n",
        "\n",
        "# All the numbers, plus sign and space for padding.\n",
        "chars = '0123456789+ '\n",
        "ctable = CharacterTable(chars)\n",
        "\n",
        "questions = []\n",
        "expected = []\n",
        "seen = set()\n",
        "print('Generating data...')\n",
        "while len(questions) < TRAINING_SIZE:\n",
        "    f = lambda: int(''.join(np.random.choice(list('0123456789'))\n",
        "                    for i in range(np.random.randint(1, DIGITS + 1))))\n",
        "    a, b = f(), f()\n",
        "    # Skip any addition questions we've already seen\n",
        "    # Also skip any such that x+Y == Y+x (hence the sorting).\n",
        "    key = tuple(sorted((a, b)))\n",
        "    if key in seen:\n",
        "        continue\n",
        "    seen.add(key)\n",
        "    # Pad the data with spaces such that it is always MAXLEN.\n",
        "    q = '{}+{}'.format(a, b)\n",
        "    query = q + ' ' * (MAXLEN - len(q))\n",
        "    ans = str(a + b)\n",
        "    # Answers can be of maximum size DIGITS + 1.\n",
        "    ans += ' ' * (DIGITS + 1 - len(ans))\n",
        "    if REVERSE:\n",
        "        # Reverse the query, e.g., '12+345  ' becomes '  543+21'. (Note the\n",
        "        # space used for padding.)\n",
        "        query = query[::-1]\n",
        "    questions.append(query)\n",
        "    expected.append(ans)\n",
        "print('Total addition questions:', len(questions))\n",
        "\n",
        "print('Vectorization...')\n",
        "x = np.zeros((len(questions), MAXLEN, len(chars)), dtype=np.bool)\n",
        "y = np.zeros((len(questions), DIGITS + 1, len(chars)), dtype=np.bool)\n",
        "for i, sentence in enumerate(questions):\n",
        "    x[i] = ctable.encode(sentence, MAXLEN)\n",
        "for i, sentence in enumerate(expected):\n",
        "    y[i] = ctable.encode(sentence, DIGITS + 1)\n",
        "\n",
        "# Shuffle (x, y) in unison as the later parts of x will almost all be larger\n",
        "# digits.\n",
        "indices = np.arange(len(y))\n",
        "np.random.shuffle(indices)\n",
        "x = x[indices]\n",
        "y = y[indices]\n",
        "\n",
        "# Explicitly set apart 10% for validation data that we never train over.\n",
        "split_at = len(x) - len(x) // 10\n",
        "(x_train, x_val) = x[:split_at], x[split_at:]\n",
        "(y_train, y_val) = y[:split_at], y[split_at:]\n",
        "\n",
        "print('Training Data:')\n",
        "print(x_train.shape)\n",
        "print(y_train.shape)\n",
        "\n",
        "print('Validation Data:')\n",
        "print(x_val.shape)\n",
        "print(y_val.shape)\n"
      ]
    },
    {
      "cell_type": "code",
      "execution_count": null,
      "metadata": {
        "hidden": true,
        "id": "53lRrY8DsUUR"
      },
      "outputs": [],
      "source": [
        "y_train[0]"
      ]
    },
    {
      "cell_type": "code",
      "execution_count": null,
      "metadata": {
        "hidden": true,
        "id": "5ACdPCdEsUUS"
      },
      "outputs": [],
      "source": [
        "from __future__ import print_function\n",
        "import keras\n",
        "from keras.datasets import cifar10\n",
        "from keras.preprocessing.image import ImageDataGenerator\n",
        "from keras.models import Sequential\n",
        "from keras.layers import Dense, Dropout, Activation, Flatten\n",
        "from keras.layers import Conv2D, MaxPooling2D\n",
        "import os\n",
        "\n",
        "batch_size = 32\n",
        "num_classes = 10\n",
        "epochs = 100\n",
        "\n",
        "num_predictions = 20\n",
        "save_dir = os.path.join(os.getcwd(), 'saved_models')\n",
        "model_name = 'keras_cifar10_trained_model.h5'\n",
        "\n",
        "# The data, split between train and test sets:\n",
        "(x_train, y_train), (x_test, y_test) = cifar10.load_data()\n",
        "print('x_train shape:', x_train.shape)\n",
        "print(x_train.shape[0], 'train samples')\n",
        "print(x_test.shape[0], 'test samples')\n",
        "\n",
        "# Convert class vectors to binary class matrices.\n",
        "y_train = keras.utils.to_categorical(y_train, num_classes)\n",
        "y_test = keras.utils.to_categorical(y_test, num_classes)\n",
        "\n",
        "model = Sequential()\n",
        "model.add(Conv2D(32, (3, 3), padding='same',\n",
        "                 input_shape=x_train.shape[1:]))\n",
        "model.add(Activation('relu'))\n",
        "model.add(Conv2D(32, (3, 3)))\n",
        "model.add(Activation('relu'))\n",
        "model.add(MaxPooling2D(pool_size=(2, 2)))\n",
        "model.add(Dropout(0.25))\n",
        "\n",
        "model.add(Conv2D(64, (3, 3), padding='same'))\n",
        "model.add(Activation('relu'))\n",
        "model.add(Conv2D(64, (3, 3)))\n",
        "model.add(Activation('relu'))\n",
        "model.add(MaxPooling2D(pool_size=(2, 2)))\n",
        "model.add(Dropout(0.25))\n",
        "\n",
        "model.add(Flatten())\n",
        "model.add(Dense(512))\n",
        "model.add(Activation('relu'))\n",
        "model.add(Dropout(0.5))\n",
        "model.add(Dense(num_classes))\n",
        "model.add(Activation('softmax'))\n",
        "\n",
        "# initiate RMSprop optimizer\n",
        "opt = keras.optimizers.RMSprop(lr=0.0002, decay=1e-6)\n",
        "\n",
        "# Let's train the model using RMSprop\n",
        "model.compile(loss='categorical_crossentropy',\n",
        "              optimizer=opt,\n",
        "              metrics=['accuracy'])\n"
      ]
    },
    {
      "cell_type": "code",
      "execution_count": null,
      "metadata": {
        "hidden": true,
        "scrolled": true,
        "id": "jIMhaX5WsUUV"
      },
      "outputs": [],
      "source": [
        "model.summary()"
      ]
    },
    {
      "cell_type": "code",
      "execution_count": null,
      "metadata": {
        "hidden": true,
        "scrolled": true,
        "id": "-kGtI1PrsUUX"
      },
      "outputs": [],
      "source": [
        "model.fit(x_train, y_train,\n",
        "          batch_size=batch_size,\n",
        "          epochs=epochs,\n",
        "          validation_da09-ta=(x_test, y_test),\n",
        "          shuffle=True)"
      ]
    },
    {
      "cell_type": "code",
      "execution_count": null,
      "metadata": {
        "hidden": true,
        "id": "o0YLR7LVsUUY"
      },
      "outputs": [],
      "source": [
        "model."
      ]
    },
    {
      "cell_type": "code",
      "execution_count": null,
      "metadata": {
        "hidden": true,
        "id": "KeO68z-xsUUY"
      },
      "outputs": [],
      "source": [
        "model_path = os.path.join(save_dir, model_name)\n",
        "model.save(\"bchjdbhj\")\n",
        "print('Saved trained model at %s ' % model_path)\n"
      ]
    },
    {
      "cell_type": "code",
      "execution_count": null,
      "metadata": {
        "hidden": true,
        "id": "btfJLVY4sUUa"
      },
      "outputs": [],
      "source": [
        "cd\\.."
      ]
    },
    {
      "cell_type": "code",
      "execution_count": null,
      "metadata": {
        "hidden": true,
        "id": "aLlBlPF_sUUb"
      },
      "outputs": [],
      "source": [
        "from ann_visualizer.visualize import ann_viz;\n",
        "ann_viz(model,view=True, title=\"\")"
      ]
    }
  ],
  "metadata": {
    "kernelspec": {
      "display_name": "Python 3",
      "language": "python",
      "name": "python3"
    },
    "language_info": {
      "codemirror_mode": {
        "name": "ipython",
        "version": 3
      },
      "file_extension": ".py",
      "mimetype": "text/x-python",
      "name": "python",
      "nbconvert_exporter": "python",
      "pygments_lexer": "ipython3",
      "version": "3.7.4"
    },
    "colab": {
      "name": "neural networks .ipynb",
      "provenance": [],
      "collapsed_sections": [
        "24SJ9CN5sUM5"
      ],
      "include_colab_link": true
    }
  },
  "nbformat": 4,
  "nbformat_minor": 0
}