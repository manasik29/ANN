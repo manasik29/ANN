{
  "cells": [
    {
      "cell_type": "markdown",
      "metadata": {
        "id": "view-in-github",
        "colab_type": "text"
      },
      "source": [
        "<a href=\"https://colab.research.google.com/github/manasik29/Neural-Networks/blob/main/imdb_sentimental_analysis_rnn.ipynb\" target=\"_parent\"><img src=\"https://colab.research.google.com/assets/colab-badge.svg\" alt=\"Open In Colab\"/></a>"
      ]
    },
    {
      "cell_type": "code",
      "execution_count": 1,
      "metadata": {
        "ExecuteTime": {
          "end_time": "2021-10-27T13:27:10.080799Z",
          "start_time": "2021-10-27T13:27:10.076234Z"
        },
        "id": "EmsYBp9pbXul"
      },
      "outputs": [],
      "source": [
        "import warnings\n",
        "warnings.filterwarnings(\"ignore\")"
      ]
    },
    {
      "cell_type": "code",
      "execution_count": 2,
      "metadata": {
        "ExecuteTime": {
          "end_time": "2021-10-27T13:27:11.451381Z",
          "start_time": "2021-10-27T13:27:11.441434Z"
        },
        "id": "kyL5w_4UbXuq"
      },
      "outputs": [],
      "source": [
        "%matplotlib inline\n",
        "\n",
        "import matplotlib.pyplot as plt\n",
        "import seaborn as sns\n",
        "import numpy as np\n",
        "import pandas as pd\n"
      ]
    },
    {
      "cell_type": "code",
      "execution_count": 3,
      "metadata": {
        "ExecuteTime": {
          "end_time": "2021-10-27T13:27:12.619150Z",
          "start_time": "2021-10-27T13:27:12.615517Z"
        },
        "id": "HybYo-cpbXu6"
      },
      "outputs": [],
      "source": [
        "import tensorflow as tf\n",
        "\n"
      ]
    },
    {
      "cell_type": "code",
      "execution_count": 4,
      "metadata": {
        "ExecuteTime": {
          "end_time": "2021-10-28T13:03:36.742079Z",
          "start_time": "2021-10-28T13:03:36.736645Z"
        },
        "id": "PgwaPeF4bXu7"
      },
      "outputs": [],
      "source": [
        "np.random.seed(1337)  # for reproducibility\n",
        "import tensorflow as tf\n",
        "from tensorflow.keras.preprocessing import sequence\n",
        "from tensorflow.keras.models import Sequential\n",
        "from tensorflow.keras.layers import Dense, Dropout, Embedding, LSTM, Bidirectional, SimpleRNN, GRU\n",
        "from tensorflow.keras.layers import Flatten\n",
        "from tensorflow.keras.datasets import imdb\n"
      ]
    },
    {
      "cell_type": "code",
      "execution_count": 5,
      "metadata": {
        "ExecuteTime": {
          "end_time": "2021-10-28T13:04:44.307879Z",
          "start_time": "2021-10-28T13:04:37.687671Z"
        },
        "colab": {
          "base_uri": "https://localhost:8080/"
        },
        "id": "DC8JBBMkbXu8",
        "outputId": "2206c3af-059b-475b-f4b3-a84e4151deff"
      },
      "outputs": [
        {
          "output_type": "stream",
          "name": "stdout",
          "text": [
            "Loading data...\n",
            "Downloading data from https://storage.googleapis.com/tensorflow/tf-keras-datasets/imdb.npz\n",
            "17465344/17464789 [==============================] - 0s 0us/step\n",
            "17473536/17464789 [==============================] - 0s 0us/step\n",
            "25000 train sequences\n",
            "25000 test sequences\n"
          ]
        }
      ],
      "source": [
        "'''Train a Bidirectional LSTM on the IMDB sentiment classification task.\n",
        "'''\n",
        "\n",
        "\n",
        "\n",
        "max_features = 20000        #max numbers of words in our vocablary\n",
        "maxlen = 100  # cut texts after this number of words (among top max_features most common words)\n",
        "\n",
        "print('Loading data...')\n",
        "(X_train, y_train), (X_test, y_test) = tf.keras.datasets.imdb.load_data(num_words=max_features)\n",
        "print(len(X_train), 'train sequences')\n",
        "print(len(X_test), 'test sequences')"
      ]
    },
    {
      "cell_type": "code",
      "execution_count": 6,
      "metadata": {
        "ExecuteTime": {
          "end_time": "2021-10-28T13:04:45.016728Z",
          "start_time": "2021-10-28T13:04:44.310948Z"
        },
        "colab": {
          "base_uri": "https://localhost:8080/"
        },
        "id": "-8yiP-sDbXvB",
        "outputId": "b824dbde-9bdd-42b2-d841-90d7215fa582"
      },
      "outputs": [
        {
          "output_type": "stream",
          "name": "stdout",
          "text": [
            "X_train shape(before pad_sequences):  (25000,)\n",
            "X_test shape(before pad_sequences):  (25000,)\n",
            "Pad sequences (samples x time)\n",
            "X_train shape: (25000, 100)\n",
            "X_test shape: (25000, 100)\n"
          ]
        }
      ],
      "source": [
        "\n",
        "\n",
        "print('X_train shape(before pad_sequences): ', X_train.shape)\n",
        "print('X_test shape(before pad_sequences): ', X_train.shape)\n",
        "\n",
        "print(\"Pad sequences (samples x time)\")\n",
        "X_train = tf.keras.preprocessing.sequence.pad_sequences(X_train, maxlen=maxlen)\n",
        "X_test = tf.keras.preprocessing.sequence.pad_sequences(X_test, maxlen=maxlen)\n",
        "print('X_train shape:', X_train.shape)\n",
        "print('X_test shape:', X_test.shape)\n",
        "\n",
        "y_train = np.array(y_train)\n",
        "y_test = np.array(y_test)"
      ]
    },
    {
      "cell_type": "markdown",
      "metadata": {
        "id": "vjTzR3OJbXvH"
      },
      "source": [
        "# LSTM"
      ]
    },
    {
      "cell_type": "code",
      "execution_count": 17,
      "metadata": {
        "ExecuteTime": {
          "end_time": "2021-10-28T13:04:45.024328Z",
          "start_time": "2021-10-28T13:04:45.020410Z"
        },
        "id": "G6QO_rlubXvG"
      },
      "outputs": [],
      "source": [
        "layers = 128\n",
        "dropout = 0.2\n",
        "epochs = 3\n",
        "batch_size = 128"
      ]
    },
    {
      "cell_type": "code",
      "execution_count": 8,
      "metadata": {
        "colab": {
          "base_uri": "https://localhost:8080/"
        },
        "id": "5A_jZQn7bXvP",
        "outputId": "5824ddc8-866d-4a60-dca5-f6d34e8f47cd"
      },
      "outputs": [
        {
          "output_type": "execute_result",
          "data": {
            "text/plain": [
              "keras.layers.embeddings.Embedding"
            ]
          },
          "metadata": {},
          "execution_count": 8
        }
      ],
      "source": [
        "tf.keras.layers.Embedding"
      ]
    },
    {
      "cell_type": "code",
      "execution_count": 9,
      "metadata": {
        "ExecuteTime": {
          "end_time": "2021-10-27T13:30:42.338348Z",
          "start_time": "2021-10-27T13:30:41.803431Z"
        },
        "colab": {
          "base_uri": "https://localhost:8080/"
        },
        "id": "bQqxaxZ0bXvR",
        "outputId": "fc895858-1957-43f7-b4a3-1cf238476d14"
      },
      "outputs": [
        {
          "output_type": "stream",
          "name": "stdout",
          "text": [
            "Model: \"sequential\"\n",
            "_________________________________________________________________\n",
            " Layer (type)                Output Shape              Param #   \n",
            "=================================================================\n",
            " embedding (Embedding)       (None, 100, 128)          2560000   \n",
            "                                                                 \n",
            " lstm (LSTM)                 (None, 128)               131584    \n",
            "                                                                 \n",
            " dropout (Dropout)           (None, 128)               0         \n",
            "                                                                 \n",
            " dense (Dense)               (None, 1)                 129       \n",
            "                                                                 \n",
            "=================================================================\n",
            "Total params: 2,691,713\n",
            "Trainable params: 2,691,713\n",
            "Non-trainable params: 0\n",
            "_________________________________________________________________\n"
          ]
        }
      ],
      "source": [
        "model = tf.keras.models.Sequential()\n",
        "model.add(tf.keras.layers.Embedding(max_features, 128, input_length=maxlen))\n",
        "model.add(tf.keras.layers.LSTM(layers))\n",
        "model.add(tf.keras.layers.Dropout(dropout))\n",
        "model.add(tf.keras.layers.Dense(1, activation='sigmoid'))\n",
        "\n",
        "model.compile('adam', 'binary_crossentropy', metrics=['accuracy'])\n",
        "\n",
        "model.summary()"
      ]
    },
    {
      "cell_type": "code",
      "execution_count": 10,
      "metadata": {
        "ExecuteTime": {
          "end_time": "2021-10-27T13:32:38.079247Z",
          "start_time": "2021-10-27T13:30:46.185946Z"
        },
        "colab": {
          "base_uri": "https://localhost:8080/"
        },
        "id": "RtLGC5WGbXvX",
        "outputId": "0db8f12e-8abd-43f6-9690-ea24cb245488"
      },
      "outputs": [
        {
          "output_type": "stream",
          "name": "stdout",
          "text": [
            "Epoch 1/3\n",
            "157/157 [==============================] - 70s 428ms/step - loss: 0.4557 - accuracy: 0.7755 - val_loss: 0.3593 - val_accuracy: 0.8452\n",
            "Epoch 2/3\n",
            "157/157 [==============================] - 67s 430ms/step - loss: 0.2336 - accuracy: 0.9087 - val_loss: 0.3756 - val_accuracy: 0.8340\n",
            "Epoch 3/3\n",
            "157/157 [==============================] - 66s 422ms/step - loss: 0.1499 - accuracy: 0.9462 - val_loss: 0.4966 - val_accuracy: 0.8404\n"
          ]
        }
      ],
      "source": [
        "history = model.fit(X_train, y_train,\n",
        "                    epochs=epochs,\n",
        "                    batch_size=batch_size,\n",
        "                    validation_split=0.2)"
      ]
    },
    {
      "cell_type": "code",
      "execution_count": 11,
      "metadata": {
        "ExecuteTime": {
          "end_time": "2021-10-27T13:35:42.409961Z",
          "start_time": "2021-10-27T13:35:42.404982Z"
        },
        "id": "DOLC_YBMbXvZ"
      },
      "outputs": [],
      "source": [
        "acc = history.history['accuracy']\n",
        "val_acc = history.history['val_accuracy']\n",
        "loss = history.history['loss']\n",
        "val_loss = history.history['val_loss']\n",
        "\n"
      ]
    },
    {
      "cell_type": "code",
      "execution_count": 12,
      "metadata": {
        "ExecuteTime": {
          "end_time": "2021-10-27T13:37:06.687968Z",
          "start_time": "2021-10-27T13:37:06.313543Z"
        },
        "colab": {
          "base_uri": "https://localhost:8080/",
          "height": 545
        },
        "id": "_DVUicIkbXvc",
        "outputId": "10a9583f-0770-4bae-d862-de69fb93497b"
      },
      "outputs": [
        {
          "output_type": "display_data",
          "data": {
            "text/plain": [
              "<Figure size 432x288 with 1 Axes>"
            ],
            "image/png": "[encoded data removed]"
          },
          "metadata": {
            "needs_background": "light"
          }
        },
        {
          "output_type": "display_data",
          "data": {
            "text/plain": [
              "<Figure size 432x288 with 1 Axes>"
            ],
            "image/png": "[encoded data removed]"
          },
          "metadata": {
            "needs_background": "light"
          }
        }
      ],
      "source": [
        "import matplotlib.pyplot as plt\n",
        "\n",
        "epochs = range(1, len(acc) + 1)\n",
        "\n",
        "plt.plot(epochs, acc, 'b', label='Training acc',color=\"red\")\n",
        "plt.plot(epochs, val_acc, 'b', label='Validation acc')\n",
        "plt.title('Training and validation accuracy')\n",
        "plt.legend()\n",
        "\n",
        "plt.figure()\n",
        "\n",
        "plt.plot(epochs, loss, 'b', label='Training loss',color=\"red\")\n",
        "plt.plot(epochs, val_loss, 'b', label='Validation loss')\n",
        "plt.title('Training and validation loss')\n",
        "plt.legend()\n",
        "\n",
        "plt.show()\n"
      ]
    },
    {
      "cell_type": "code",
      "execution_count": 13,
      "metadata": {
        "ExecuteTime": {
          "end_time": "2021-10-27T13:34:13.942783Z",
          "start_time": "2021-10-27T13:33:56.775746Z"
        },
        "colab": {
          "base_uri": "https://localhost:8080/"
        },
        "id": "BoYt6sddbXve",
        "outputId": "81a0d81e-0588-4f9a-f3aa-3da3679ebbaf"
      },
      "outputs": [
        {
          "output_type": "stream",
          "name": "stdout",
          "text": [
            "782/782 [==============================] - 27s 35ms/step - loss: 0.5182 - accuracy: 0.8327\n"
          ]
        },
        {
          "output_type": "execute_result",
          "data": {
            "text/plain": [
              "0.8327199816703796"
            ]
          },
          "metadata": {},
          "execution_count": 13
        }
      ],
      "source": [
        "score = model.evaluate(X_test, y_test)\n",
        "score[1]"
      ]
    },
    {
      "cell_type": "markdown",
      "metadata": {
        "id": "rvXKpihRbXvg"
      },
      "source": [
        "# BLSTM"
      ]
    },
    {
      "cell_type": "code",
      "source": [
        "layers = 128\n",
        "dropout = 0.2\n",
        "epochs = 3\n",
        "batch_size = 128"
      ],
      "metadata": {
        "id": "s2HfuvkReoDU"
      },
      "execution_count": null,
      "outputs": []
    },
    {
      "cell_type": "code",
      "execution_count": 14,
      "metadata": {
        "ExecuteTime": {
          "end_time": "2021-10-28T13:04:56.244802Z",
          "start_time": "2021-10-28T13:04:55.766740Z"
        },
        "colab": {
          "base_uri": "https://localhost:8080/"
        },
        "id": "Pj8Ii42qbXvj",
        "outputId": "352345ed-9035-4564-8429-8111b19b43b1"
      },
      "outputs": [
        {
          "output_type": "stream",
          "name": "stdout",
          "text": [
            "Model: \"sequential_1\"\n",
            "_________________________________________________________________\n",
            " Layer (type)                Output Shape              Param #   \n",
            "=================================================================\n",
            " embedding_1 (Embedding)     (None, 100, 128)          2560000   \n",
            "                                                                 \n",
            " bidirectional (Bidirectiona  (None, 256)              263168    \n",
            " l)                                                              \n",
            "                                                                 \n",
            " dropout_1 (Dropout)         (None, 256)               0         \n",
            "                                                                 \n",
            " dense_1 (Dense)             (None, 1)                 257       \n",
            "                                                                 \n",
            "=================================================================\n",
            "Total params: 2,823,425\n",
            "Trainable params: 2,823,425\n",
            "Non-trainable params: 0\n",
            "_________________________________________________________________\n"
          ]
        }
      ],
      "source": [
        "model = Sequential()\n",
        "model.add(Embedding(max_features, 128, input_length=maxlen))\n",
        "model.add(Bidirectional(LSTM(layers)))\n",
        "model.add(Dropout(dropout))\n",
        "model.add(Dense(1, activation='sigmoid'))\n",
        "\n",
        "model.compile('adam', 'binary_crossentropy', metrics=['accuracy'])\n",
        "\n",
        "model.summary()"
      ]
    },
    {
      "cell_type": "code",
      "execution_count": 18,
      "metadata": {
        "ExecuteTime": {
          "end_time": "2021-10-28T13:08:05.415235Z",
          "start_time": "2021-10-28T13:04:56.510388Z"
        },
        "colab": {
          "base_uri": "https://localhost:8080/"
        },
        "id": "eiwn1ulbbXvl",
        "outputId": "b4125b0b-db01-4c55-8b96-8b976f884507"
      },
      "outputs": [
        {
          "output_type": "stream",
          "name": "stdout",
          "text": [
            "Epoch 1/3\n",
            "157/157 [==============================] - 131s 809ms/step - loss: 0.4464 - accuracy: 0.7793 - val_loss: 0.3698 - val_accuracy: 0.8414\n",
            "Epoch 2/3\n",
            "157/157 [==============================] - 123s 782ms/step - loss: 0.2384 - accuracy: 0.9064 - val_loss: 0.3519 - val_accuracy: 0.8466\n",
            "Epoch 3/3\n",
            "157/157 [==============================] - 122s 776ms/step - loss: 0.1492 - accuracy: 0.9480 - val_loss: 0.4018 - val_accuracy: 0.8454\n"
          ]
        }
      ],
      "source": [
        "history = model.fit(X_train, y_train,\n",
        "                    epochs=epochs,\n",
        "                    batch_size=batch_size,\n",
        "                    validation_split = 0.2)"
      ]
    },
    {
      "cell_type": "code",
      "execution_count": 19,
      "metadata": {
        "colab": {
          "base_uri": "https://localhost:8080/"
        },
        "id": "5uO9KQxibXvn",
        "outputId": "10e4d098-6323-447c-c0ec-5e9122250443"
      },
      "outputs": [
        {
          "output_type": "stream",
          "name": "stdout",
          "text": [
            "782/782 [==============================] - 45s 57ms/step - loss: 0.4226 - accuracy: 0.8364\n"
          ]
        },
        {
          "output_type": "execute_result",
          "data": {
            "text/plain": [
              "0.8364400267601013"
            ]
          },
          "metadata": {},
          "execution_count": 19
        }
      ],
      "source": [
        "score = model.evaluate(X_test, y_test)\n",
        "score[1]"
      ]
    },
    {
      "cell_type": "markdown",
      "metadata": {
        "id": "8k7l35WdbXvp"
      },
      "source": [
        "# SimpleRNN"
      ]
    },
    {
      "cell_type": "code",
      "execution_count": 20,
      "metadata": {
        "colab": {
          "base_uri": "https://localhost:8080/"
        },
        "id": "EXVxGwO7bXvq",
        "outputId": "06221dcc-dee0-47c1-d5bc-a26447b8b70b"
      },
      "outputs": [
        {
          "output_type": "stream",
          "name": "stdout",
          "text": [
            "Model: \"sequential_2\"\n",
            "_________________________________________________________________\n",
            " Layer (type)                Output Shape              Param #   \n",
            "=================================================================\n",
            " embedding_2 (Embedding)     (None, 100, 128)          2560000   \n",
            "                                                                 \n",
            " simple_rnn (SimpleRNN)      (None, 128)               32896     \n",
            "                                                                 \n",
            " dropout_2 (Dropout)         (None, 128)               0         \n",
            "                                                                 \n",
            " dense_2 (Dense)             (None, 1)                 129       \n",
            "                                                                 \n",
            "=================================================================\n",
            "Total params: 2,593,025\n",
            "Trainable params: 2,593,025\n",
            "Non-trainable params: 0\n",
            "_________________________________________________________________\n"
          ]
        }
      ],
      "source": [
        "model = Sequential()\n",
        "model.add(Embedding(max_features, 128, input_length=maxlen))\n",
        "model.add(SimpleRNN(layers)) \n",
        "model.add(Dropout(dropout))\n",
        "model.add(Dense(1, activation='sigmoid'))\n",
        "\n",
        "model.compile('adam', 'binary_crossentropy', metrics=['accuracy'])\n",
        "\n",
        "model.summary()"
      ]
    },
    {
      "cell_type": "code",
      "execution_count": 21,
      "metadata": {
        "colab": {
          "base_uri": "https://localhost:8080/"
        },
        "id": "DxgJ_ImTbXvs",
        "outputId": "2779edd2-ba6b-4995-aef2-0c4a99e3b557"
      },
      "outputs": [
        {
          "output_type": "stream",
          "name": "stdout",
          "text": [
            "Epoch 1/3\n",
            "157/157 [==============================] - 22s 132ms/step - loss: 0.5834 - accuracy: 0.6723 - val_loss: 0.4860 - val_accuracy: 0.7752\n",
            "Epoch 2/3\n",
            "157/157 [==============================] - 21s 137ms/step - loss: 0.3110 - accuracy: 0.8699 - val_loss: 0.4139 - val_accuracy: 0.8276\n",
            "Epoch 3/3\n",
            "157/157 [==============================] - 20s 130ms/step - loss: 0.1765 - accuracy: 0.9337 - val_loss: 0.4768 - val_accuracy: 0.8016\n"
          ]
        }
      ],
      "source": [
        "history = model.fit(X_train, y_train,\n",
        "                    epochs=epochs,\n",
        "                    batch_size=batch_size,\n",
        "                    validation_split=0.2)"
      ]
    },
    {
      "cell_type": "code",
      "execution_count": 22,
      "metadata": {
        "ExecuteTime": {
          "end_time": "2021-10-28T13:08:39.483211Z",
          "start_time": "2021-10-28T13:08:05.420484Z"
        },
        "colab": {
          "base_uri": "https://localhost:8080/"
        },
        "id": "IEfX1mQtbXvt",
        "outputId": "a552e395-ff9a-4f29-97b3-a6fa62f5896a"
      },
      "outputs": [
        {
          "output_type": "stream",
          "name": "stdout",
          "text": [
            "782/782 [==============================] - 10s 13ms/step - loss: 0.4750 - accuracy: 0.8085\n"
          ]
        },
        {
          "output_type": "execute_result",
          "data": {
            "text/plain": [
              "0.8085200190544128"
            ]
          },
          "metadata": {},
          "execution_count": 22
        }
      ],
      "source": [
        "score = model.evaluate(X_test, y_test)\n",
        "score[1]"
      ]
    },
    {
      "cell_type": "markdown",
      "metadata": {
        "id": "IsrIXQ2qbXvv"
      },
      "source": [
        "# GRU"
      ]
    },
    {
      "cell_type": "code",
      "execution_count": 23,
      "metadata": {
        "colab": {
          "base_uri": "https://localhost:8080/"
        },
        "id": "b72wpKCebXvw",
        "outputId": "e1faabf4-8acb-4e4e-aec7-11cb452c73e0"
      },
      "outputs": [
        {
          "output_type": "stream",
          "name": "stdout",
          "text": [
            "Model: \"sequential_3\"\n",
            "_________________________________________________________________\n",
            " Layer (type)                Output Shape              Param #   \n",
            "=================================================================\n",
            " embedding_3 (Embedding)     (None, 100, 128)          2560000   \n",
            "                                                                 \n",
            " gru (GRU)                   (None, 128)               99072     \n",
            "                                                                 \n",
            " dropout_3 (Dropout)         (None, 128)               0         \n",
            "                                                                 \n",
            " dense_3 (Dense)             (None, 1)                 129       \n",
            "                                                                 \n",
            "=================================================================\n",
            "Total params: 2,659,201\n",
            "Trainable params: 2,659,201\n",
            "Non-trainable params: 0\n",
            "_________________________________________________________________\n"
          ]
        }
      ],
      "source": [
        "model = Sequential()\n",
        "model.add(Embedding(max_features, 128, input_length=maxlen))\n",
        "model.add(GRU(layers)) \n",
        "model.add(Dropout(dropout))\n",
        "model.add(Dense(1, activation='sigmoid'))\n",
        "\n",
        "model.compile('adam', 'binary_crossentropy', metrics=['accuracy'])\n",
        "\n",
        "model.summary()"
      ]
    },
    {
      "cell_type": "code",
      "execution_count": 24,
      "metadata": {
        "colab": {
          "base_uri": "https://localhost:8080/"
        },
        "id": "mPMjJLMXbXvw",
        "outputId": "d78a5af7-b413-46e9-d902-21e0df1a02a5"
      },
      "outputs": [
        {
          "output_type": "stream",
          "name": "stdout",
          "text": [
            "Epoch 1/3\n",
            "157/157 [==============================] - 58s 358ms/step - loss: 0.5338 - accuracy: 0.7185 - val_loss: 0.3664 - val_accuracy: 0.8368\n",
            "Epoch 2/3\n",
            "157/157 [==============================] - 55s 351ms/step - loss: 0.2660 - accuracy: 0.8914 - val_loss: 0.3634 - val_accuracy: 0.8412\n",
            "Epoch 3/3\n",
            "157/157 [==============================] - 56s 357ms/step - loss: 0.1666 - accuracy: 0.9403 - val_loss: 0.4109 - val_accuracy: 0.8254\n"
          ]
        }
      ],
      "source": [
        "history = model.fit(X_train, y_train,\n",
        "                    epochs=epochs,\n",
        "                    batch_size=batch_size,\n",
        "                    validation_split=0.2)"
      ]
    },
    {
      "cell_type": "code",
      "execution_count": 25,
      "metadata": {
        "colab": {
          "base_uri": "https://localhost:8080/"
        },
        "id": "frHiP_FNbXvx",
        "outputId": "1735256d-68e7-407c-ccd3-991b5f60acc2"
      },
      "outputs": [
        {
          "output_type": "stream",
          "name": "stdout",
          "text": [
            "782/782 [==============================] - 21s 27ms/step - loss: 0.4161 - accuracy: 0.8242\n"
          ]
        },
        {
          "output_type": "execute_result",
          "data": {
            "text/plain": [
              "0.8241599798202515"
            ]
          },
          "metadata": {},
          "execution_count": 25
        }
      ],
      "source": [
        "score = model.evaluate(X_test, y_test)\n",
        "score[1]"
      ]
    }
  ],
  "metadata": {
    "kernelspec": {
      "display_name": "Python 3",
      "language": "python",
      "name": "python3"
    },
    "language_info": {
      "codemirror_mode": {
        "name": "ipython",
        "version": 3
      },
      "file_extension": ".py",
      "mimetype": "text/x-python",
      "name": "python",
      "nbconvert_exporter": "python",
      "pygments_lexer": "ipython3",
      "version": "3.7.4"
    },
    "colab": {
      "name": "imdb-sentimental-analysis-rnn.ipynb",
      "provenance": [],
      "collapsed_sections": [],
      "include_colab_link": true
    }
  },
  "nbformat": 4,
  "nbformat_minor": 0
}